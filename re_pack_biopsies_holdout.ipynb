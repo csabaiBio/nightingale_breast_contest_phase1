{
 "cells": [
  {
   "cell_type": "raw",
   "metadata": {},
   "source": [
    "Copyright 2022-2023 Zsolt Bedohazi, Andras Biricz, Oz Kilim, Istvan Csabai\n",
    "\n",
    "Licensed under the Apache License, Version 2.0 (the \"License\");\n",
    "you may not use this file except in compliance with the License.\n",
    "You may obtain a copy of the License at\n",
    "\n",
    "    https://www.apache.org/licenses/LICENSE-2.0\n",
    "\n",
    "Unless required by applicable law or agreed to in writing, software\n",
    "distributed under the License is distributed on an \"AS IS\" BASIS,\n",
    "WITHOUT WARRANTIES OR CONDITIONS OF ANY KIND, either express or implied.\n",
    "See the License for the specific language governing permissions and\n",
    "limitations under the License."
   ]
  },
  {
   "cell_type": "code",
   "execution_count": 1,
   "metadata": {},
   "outputs": [],
   "source": [
    "import pandas as pd\n",
    "import numpy as np\n",
    "from sklearn.model_selection import KFold\n",
    "import xgboost as xg\n",
    "from tqdm import tqdm\n",
    "from sklearn.metrics import mean_squared_error as MSE\n",
    "from sklearn import preprocessing\n",
    "from sklearn.ensemble import RandomForestRegressor\n",
    "import os\n",
    "import PIL.Image\n",
    "import cv2\n",
    "import matplotlib.pyplot as plt\n",
    "from collections import Counter\n",
    "import pickle"
   ]
  },
  {
   "cell_type": "code",
   "execution_count": 2,
   "metadata": {},
   "outputs": [],
   "source": [
    "parent_folder = './'"
   ]
  },
  {
   "cell_type": "code",
   "execution_count": 3,
   "metadata": {},
   "outputs": [],
   "source": [
    "labels_df = pd.read_csv(parent_folder+'staged_biopsy_holdout.csv')\n",
    "sort_idx = np.argsort( labels_df.slide_id.values )\n",
    "labels_df = labels_df.loc[sort_idx]\n",
    "labels_df.reset_index(inplace=True, drop=True)\n",
    "gby_temp = list(labels_df.groupby('biopsy_id',sort=False))\n",
    "biopsy_idx_to_slide_idx = np.array( [ l[1].index.values for l in gby_temp ], dtype=object )"
   ]
  },
  {
   "cell_type": "code",
   "execution_count": 4,
   "metadata": {},
   "outputs": [
    {
     "data": {
      "text/html": [
       "<div>\n",
       "<style scoped>\n",
       "    .dataframe tbody tr th:only-of-type {\n",
       "        vertical-align: middle;\n",
       "    }\n",
       "\n",
       "    .dataframe tbody tr th {\n",
       "        vertical-align: top;\n",
       "    }\n",
       "\n",
       "    .dataframe thead th {\n",
       "        text-align: right;\n",
       "    }\n",
       "</style>\n",
       "<table border=\"1\" class=\"dataframe\">\n",
       "  <thead>\n",
       "    <tr style=\"text-align: right;\">\n",
       "      <th></th>\n",
       "      <th>Unnamed: 0</th>\n",
       "      <th>slide_id</th>\n",
       "      <th>biopsy_id</th>\n",
       "    </tr>\n",
       "  </thead>\n",
       "  <tbody>\n",
       "    <tr>\n",
       "      <th>0</th>\n",
       "      <td>2537</td>\n",
       "      <td>000a3de5-c8b9-4f53-8d15-07d76894eca7</td>\n",
       "      <td>4b6d2dfd-615a-48b5-99f6-952f9b726b1e</td>\n",
       "    </tr>\n",
       "    <tr>\n",
       "      <th>1</th>\n",
       "      <td>13945</td>\n",
       "      <td>000ed373-18a4-400b-811c-dd432dc90dc2</td>\n",
       "      <td>013d29dc-b4ed-48f5-985c-2793b3071d8c</td>\n",
       "    </tr>\n",
       "    <tr>\n",
       "      <th>2</th>\n",
       "      <td>5278</td>\n",
       "      <td>000f344e-fb53-41f8-b6a9-e8e2ec41a204</td>\n",
       "      <td>4a5d36b0-1047-4dd9-b041-f102c11493c4</td>\n",
       "    </tr>\n",
       "    <tr>\n",
       "      <th>3</th>\n",
       "      <td>16042</td>\n",
       "      <td>00157adc-75db-4ac8-9237-adbf6df6a3de</td>\n",
       "      <td>e0d293bf-76ab-4b07-85a3-c7a0a38d2ec6</td>\n",
       "    </tr>\n",
       "    <tr>\n",
       "      <th>4</th>\n",
       "      <td>11533</td>\n",
       "      <td>001a0d82-f168-4f3b-bad3-0ab5afca7d6f</td>\n",
       "      <td>c152f054-46f2-4921-bcb8-ea1fcf149220</td>\n",
       "    </tr>\n",
       "  </tbody>\n",
       "</table>\n",
       "</div>"
      ],
      "text/plain": [
       "   Unnamed: 0                              slide_id  \\\n",
       "0        2537  000a3de5-c8b9-4f53-8d15-07d76894eca7   \n",
       "1       13945  000ed373-18a4-400b-811c-dd432dc90dc2   \n",
       "2        5278  000f344e-fb53-41f8-b6a9-e8e2ec41a204   \n",
       "3       16042  00157adc-75db-4ac8-9237-adbf6df6a3de   \n",
       "4       11533  001a0d82-f168-4f3b-bad3-0ab5afca7d6f   \n",
       "\n",
       "                              biopsy_id  \n",
       "0  4b6d2dfd-615a-48b5-99f6-952f9b726b1e  \n",
       "1  013d29dc-b4ed-48f5-985c-2793b3071d8c  \n",
       "2  4a5d36b0-1047-4dd9-b041-f102c11493c4  \n",
       "3  e0d293bf-76ab-4b07-85a3-c7a0a38d2ec6  \n",
       "4  c152f054-46f2-4921-bcb8-ea1fcf149220  "
      ]
     },
     "execution_count": 4,
     "metadata": {},
     "output_type": "execute_result"
    }
   ],
   "source": [
    "labels_df.head()"
   ]
  },
  {
   "cell_type": "code",
   "execution_count": 5,
   "metadata": {},
   "outputs": [
    {
     "data": {
      "text/plain": [
       "14487"
      ]
     },
     "execution_count": 5,
     "metadata": {},
     "output_type": "execute_result"
    }
   ],
   "source": [
    "len(labels_df[\"slide_id\"].value_counts())"
   ]
  },
  {
   "cell_type": "code",
   "execution_count": 6,
   "metadata": {},
   "outputs": [
    {
     "data": {
      "text/plain": [
       "886"
      ]
     },
     "execution_count": 6,
     "metadata": {},
     "output_type": "execute_result"
    }
   ],
   "source": [
    "len(labels_df[\"biopsy_id\"].value_counts())"
   ]
  },
  {
   "cell_type": "code",
   "execution_count": 7,
   "metadata": {},
   "outputs": [
    {
     "data": {
      "text/html": [
       "<div>\n",
       "<style scoped>\n",
       "    .dataframe tbody tr th:only-of-type {\n",
       "        vertical-align: middle;\n",
       "    }\n",
       "\n",
       "    .dataframe tbody tr th {\n",
       "        vertical-align: top;\n",
       "    }\n",
       "\n",
       "    .dataframe thead th {\n",
       "        text-align: right;\n",
       "    }\n",
       "</style>\n",
       "<table border=\"1\" class=\"dataframe\">\n",
       "  <thead>\n",
       "    <tr style=\"text-align: right;\">\n",
       "      <th></th>\n",
       "      <th>biopsy_id</th>\n",
       "      <th>slide_id</th>\n",
       "    </tr>\n",
       "  </thead>\n",
       "  <tbody>\n",
       "    <tr>\n",
       "      <th>0</th>\n",
       "      <td>0046d594-872b-47ce-bdea-b2853f249a4a</td>\n",
       "      <td>[15542234-4161-4af3-a659-2a8815e9283a, 1cad8f8...</td>\n",
       "    </tr>\n",
       "    <tr>\n",
       "      <th>1</th>\n",
       "      <td>0048fb50-689b-432d-acc6-9be1d30ddaba</td>\n",
       "      <td>[19090436-05c4-465b-b111-0ba6a1494723, 1f707ce...</td>\n",
       "    </tr>\n",
       "    <tr>\n",
       "      <th>2</th>\n",
       "      <td>00acb063-63a1-4241-9a1a-a824c783782e</td>\n",
       "      <td>[139f770a-c524-447c-91bd-fdc4fd4d738d, 1a18f15...</td>\n",
       "    </tr>\n",
       "    <tr>\n",
       "      <th>3</th>\n",
       "      <td>00d0a1e5-0ee6-4a17-9ab1-7cf14faab778</td>\n",
       "      <td>[70cc82cb-3d32-43cc-8ac8-263136ce0ff1, 9ae7857...</td>\n",
       "    </tr>\n",
       "    <tr>\n",
       "      <th>4</th>\n",
       "      <td>013d29dc-b4ed-48f5-985c-2793b3071d8c</td>\n",
       "      <td>[000ed373-18a4-400b-811c-dd432dc90dc2, 0341292...</td>\n",
       "    </tr>\n",
       "  </tbody>\n",
       "</table>\n",
       "</div>"
      ],
      "text/plain": [
       "                              biopsy_id  \\\n",
       "0  0046d594-872b-47ce-bdea-b2853f249a4a   \n",
       "1  0048fb50-689b-432d-acc6-9be1d30ddaba   \n",
       "2  00acb063-63a1-4241-9a1a-a824c783782e   \n",
       "3  00d0a1e5-0ee6-4a17-9ab1-7cf14faab778   \n",
       "4  013d29dc-b4ed-48f5-985c-2793b3071d8c   \n",
       "\n",
       "                                            slide_id  \n",
       "0  [15542234-4161-4af3-a659-2a8815e9283a, 1cad8f8...  \n",
       "1  [19090436-05c4-465b-b111-0ba6a1494723, 1f707ce...  \n",
       "2  [139f770a-c524-447c-91bd-fdc4fd4d738d, 1a18f15...  \n",
       "3  [70cc82cb-3d32-43cc-8ac8-263136ce0ff1, 9ae7857...  \n",
       "4  [000ed373-18a4-400b-811c-dd432dc90dc2, 0341292...  "
      ]
     },
     "execution_count": 7,
     "metadata": {},
     "output_type": "execute_result"
    }
   ],
   "source": [
    "# for each biopsy make a list of the slides id's by re-shaping the df. \n",
    "list_df = labels_df.groupby([\"biopsy_id\"]).agg({'slide_id': lambda x: x.tolist()}).reset_index()\n",
    "list_df.head()"
   ]
  },
  {
   "cell_type": "code",
   "execution_count": 60,
   "metadata": {},
   "outputs": [
    {
     "data": {
      "text/plain": [
       "(2721, 2)"
      ]
     },
     "execution_count": 60,
     "metadata": {},
     "output_type": "execute_result"
    }
   ],
   "source": [
    "list_df.shape"
   ]
  },
  {
   "cell_type": "code",
   "execution_count": 9,
   "metadata": {},
   "outputs": [
    {
     "data": {
      "text/plain": [
       "0      None\n",
       "1      None\n",
       "2      None\n",
       "3      None\n",
       "4      None\n",
       "       ... \n",
       "881    None\n",
       "882    None\n",
       "883    None\n",
       "884    None\n",
       "885    None\n",
       "Length: 886, dtype: object"
      ]
     },
     "execution_count": 9,
     "metadata": {},
     "output_type": "execute_result"
    }
   ],
   "source": [
    "def re_pack(x):\n",
    "    biopsy_bag = np.zeros((1,2048))\n",
    "    for slide in x[\"slide_id\"]:\n",
    "        try:\n",
    "            slide_bag = np.load(\"../save_resnet_embeddings_level4_bags_bracs/resnet50_bracs_\"+slide+\".npy\")\n",
    "            biopsy_bag = np.vstack((biopsy_bag,slide_bag)).astype(np.float16)\n",
    "            # append to biopsy bag.\n",
    "        except:\n",
    "            pass\n",
    "    # save biopsy bag with biopsy id as the name.\n",
    "    biopsy_bag = biopsy_bag[1:,:]\n",
    "    np.save(\"../save_resnet_embeddings_level4_biopsy_bags_bracs_float16/\"+x[\"biopsy_id\"]+\".npy\",biopsy_bag)\n",
    "     \n",
    "# lambda function for entire set of all bags.\n",
    "list_df.apply(lambda x: re_pack(x) ,axis=1) # uncomment top do the packing!\n"
   ]
  },
  {
   "cell_type": "code",
   "execution_count": 136,
   "metadata": {},
   "outputs": [],
   "source": [
    "list_df[\"biopsy_id\"].to_csv(\"HOLD_OUT.csv\")"
   ]
  }
 ],
 "metadata": {
  "kernelspec": {
   "display_name": "Python 3 (ipykernel)",
   "language": "python",
   "name": "python3"
  },
  "language_info": {
   "codemirror_mode": {
    "name": "ipython",
    "version": 3
   },
   "file_extension": ".py",
   "mimetype": "text/x-python",
   "name": "python",
   "nbconvert_exporter": "python",
   "pygments_lexer": "ipython3",
   "version": "3.8.11"
  },
  "vscode": {
   "interpreter": {
    "hash": "31f2aee4e71d21fbe5cf8b01ff0e069b9275f58929596ceb00d14d90e3e16cd6"
   }
  }
 },
 "nbformat": 4,
 "nbformat_minor": 4
}
