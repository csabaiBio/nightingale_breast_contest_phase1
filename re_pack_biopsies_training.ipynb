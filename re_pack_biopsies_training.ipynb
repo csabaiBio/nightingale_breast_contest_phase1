{
 "cells": [
  {
   "cell_type": "raw",
   "metadata": {},
   "source": [
    "Copyright 2022-2023 Zsolt Bedohazi, Andras Biricz, Oz Kilim, Istvan Csabai\n",
    "\n",
    "Licensed under the Apache License, Version 2.0 (the \"License\");\n",
    "you may not use this file except in compliance with the License.\n",
    "You may obtain a copy of the License at\n",
    "\n",
    "    https://www.apache.org/licenses/LICENSE-2.0\n",
    "\n",
    "Unless required by applicable law or agreed to in writing, software\n",
    "distributed under the License is distributed on an \"AS IS\" BASIS,\n",
    "WITHOUT WARRANTIES OR CONDITIONS OF ANY KIND, either express or implied.\n",
    "See the License for the specific language governing permissions and\n",
    "limitations under the License."
   ]
  },
  {
   "cell_type": "code",
   "execution_count": 52,
   "metadata": {},
   "outputs": [],
   "source": [
    "import pandas as pd\n",
    "import numpy as np\n",
    "from sklearn.model_selection import KFold\n",
    "import xgboost as xg\n",
    "from tqdm import tqdm\n",
    "from sklearn.metrics import mean_squared_error as MSE\n",
    "from sklearn import preprocessing\n",
    "from sklearn.ensemble import RandomForestRegressor\n",
    "import os\n",
    "import PIL.Image\n",
    "import cv2\n",
    "import matplotlib.pyplot as plt\n",
    "from collections import Counter\n",
    "import pickle"
   ]
  },
  {
   "cell_type": "code",
   "execution_count": 53,
   "metadata": {},
   "outputs": [],
   "source": [
    "parent_folder = './'"
   ]
  },
  {
   "cell_type": "code",
   "execution_count": 54,
   "metadata": {},
   "outputs": [],
   "source": [
    "labels_df = pd.read_csv(parent_folder+'labels_df.csv')\n",
    "sort_idx = np.argsort( labels_df.slide_id.values )\n",
    "labels_df = labels_df.loc[sort_idx]\n",
    "labels_df.reset_index(inplace=True, drop=True)\n",
    "gby_temp = list(labels_df.groupby('biopsy_id',sort=False))\n",
    "biopsy_idx_to_slide_idx = np.array( [ l[1].index.values for l in gby_temp ], dtype=object )"
   ]
  },
  {
   "cell_type": "code",
   "execution_count": 55,
   "metadata": {},
   "outputs": [
    {
     "data": {
      "text/html": [
       "<div>\n",
       "<style scoped>\n",
       "    .dataframe tbody tr th:only-of-type {\n",
       "        vertical-align: middle;\n",
       "    }\n",
       "\n",
       "    .dataframe tbody tr th {\n",
       "        vertical-align: top;\n",
       "    }\n",
       "\n",
       "    .dataframe thead th {\n",
       "        text-align: right;\n",
       "    }\n",
       "</style>\n",
       "<table border=\"1\" class=\"dataframe\">\n",
       "  <thead>\n",
       "    <tr style=\"text-align: right;\">\n",
       "      <th></th>\n",
       "      <th>slide_id</th>\n",
       "      <th>biopsy_id</th>\n",
       "      <th>stage</th>\n",
       "    </tr>\n",
       "  </thead>\n",
       "  <tbody>\n",
       "    <tr>\n",
       "      <th>0</th>\n",
       "      <td>0000459a-838d-4865-8bbf-ea66f2e5ee4d</td>\n",
       "      <td>acf982cf-42f1-4837-b47e-a98541cb65fa</td>\n",
       "      <td>3</td>\n",
       "    </tr>\n",
       "    <tr>\n",
       "      <th>1</th>\n",
       "      <td>0001669a-9515-42f2-926b-48f153fd9643</td>\n",
       "      <td>2025b0a1-d639-46a7-a2b6-58ecc32f054b</td>\n",
       "      <td>0</td>\n",
       "    </tr>\n",
       "    <tr>\n",
       "      <th>2</th>\n",
       "      <td>00018c3b-e8c7-49db-9831-7802bde48706</td>\n",
       "      <td>3e8bd0fd-e179-4aeb-b714-91a9453831fa</td>\n",
       "      <td>1</td>\n",
       "    </tr>\n",
       "    <tr>\n",
       "      <th>3</th>\n",
       "      <td>00027644-c853-4df4-abda-c13619f1e688</td>\n",
       "      <td>396ed629-7931-47bb-b4d5-57600ff46108</td>\n",
       "      <td>1</td>\n",
       "    </tr>\n",
       "    <tr>\n",
       "      <th>4</th>\n",
       "      <td>00046960-74ec-4750-b972-c4bf78eb40d6</td>\n",
       "      <td>45ceba23-f582-4c4a-bcb7-1716401afb68</td>\n",
       "      <td>1</td>\n",
       "    </tr>\n",
       "  </tbody>\n",
       "</table>\n",
       "</div>"
      ],
      "text/plain": [
       "                               slide_id                             biopsy_id  \\\n",
       "0  0000459a-838d-4865-8bbf-ea66f2e5ee4d  acf982cf-42f1-4837-b47e-a98541cb65fa   \n",
       "1  0001669a-9515-42f2-926b-48f153fd9643  2025b0a1-d639-46a7-a2b6-58ecc32f054b   \n",
       "2  00018c3b-e8c7-49db-9831-7802bde48706  3e8bd0fd-e179-4aeb-b714-91a9453831fa   \n",
       "3  00027644-c853-4df4-abda-c13619f1e688  396ed629-7931-47bb-b4d5-57600ff46108   \n",
       "4  00046960-74ec-4750-b972-c4bf78eb40d6  45ceba23-f582-4c4a-bcb7-1716401afb68   \n",
       "\n",
       "   stage  \n",
       "0      3  \n",
       "1      0  \n",
       "2      1  \n",
       "3      1  \n",
       "4      1  "
      ]
     },
     "execution_count": 55,
     "metadata": {},
     "output_type": "execute_result"
    }
   ],
   "source": [
    "labels_df.head()"
   ]
  },
  {
   "cell_type": "code",
   "execution_count": 56,
   "metadata": {},
   "outputs": [
    {
     "data": {
      "text/plain": [
       "45701"
      ]
     },
     "execution_count": 56,
     "metadata": {},
     "output_type": "execute_result"
    }
   ],
   "source": [
    "len(labels_df[\"slide_id\"].value_counts())"
   ]
  },
  {
   "cell_type": "code",
   "execution_count": 57,
   "metadata": {},
   "outputs": [
    {
     "data": {
      "text/plain": [
       "2721"
      ]
     },
     "execution_count": 57,
     "metadata": {},
     "output_type": "execute_result"
    }
   ],
   "source": [
    "len(labels_df[\"biopsy_id\"].value_counts())"
   ]
  },
  {
   "cell_type": "code",
   "execution_count": 58,
   "metadata": {},
   "outputs": [
    {
     "data": {
      "text/html": [
       "<div>\n",
       "<style scoped>\n",
       "    .dataframe tbody tr th:only-of-type {\n",
       "        vertical-align: middle;\n",
       "    }\n",
       "\n",
       "    .dataframe tbody tr th {\n",
       "        vertical-align: top;\n",
       "    }\n",
       "\n",
       "    .dataframe thead th {\n",
       "        text-align: right;\n",
       "    }\n",
       "</style>\n",
       "<table border=\"1\" class=\"dataframe\">\n",
       "  <thead>\n",
       "    <tr style=\"text-align: right;\">\n",
       "      <th></th>\n",
       "      <th>biopsy_id</th>\n",
       "      <th>slide_id</th>\n",
       "    </tr>\n",
       "  </thead>\n",
       "  <tbody>\n",
       "    <tr>\n",
       "      <th>0</th>\n",
       "      <td>00047e6d-cf9e-41f8-8901-eb9b0fe155a6</td>\n",
       "      <td>[028ad74f-ebd7-45e5-92da-b0f2ded35fdf, 0d67764...</td>\n",
       "    </tr>\n",
       "    <tr>\n",
       "      <th>1</th>\n",
       "      <td>0028943f-8565-4ea7-89df-0a53f37db9ca</td>\n",
       "      <td>[0012e24b-3dd3-4226-a12e-aeeae8d18df4, 10117ed...</td>\n",
       "    </tr>\n",
       "    <tr>\n",
       "      <th>2</th>\n",
       "      <td>0034f45e-6adb-49da-afbc-1cb89c60f1bc</td>\n",
       "      <td>[06820b59-9f49-4ac2-8c42-2fa4990dcc5b, 3343d1f...</td>\n",
       "    </tr>\n",
       "    <tr>\n",
       "      <th>3</th>\n",
       "      <td>0034fac2-6ef7-4337-a5bc-05065d5d4d68</td>\n",
       "      <td>[875fc427-e1e3-4f1b-a80b-0c5db2ff4fd4, 91ebcd3...</td>\n",
       "    </tr>\n",
       "    <tr>\n",
       "      <th>4</th>\n",
       "      <td>00437712-9cc8-40b4-a277-b2203ce41878</td>\n",
       "      <td>[01ee5a84-21e5-4151-9fd8-31b145e2e9ce, 03222bf...</td>\n",
       "    </tr>\n",
       "  </tbody>\n",
       "</table>\n",
       "</div>"
      ],
      "text/plain": [
       "                              biopsy_id  \\\n",
       "0  00047e6d-cf9e-41f8-8901-eb9b0fe155a6   \n",
       "1  0028943f-8565-4ea7-89df-0a53f37db9ca   \n",
       "2  0034f45e-6adb-49da-afbc-1cb89c60f1bc   \n",
       "3  0034fac2-6ef7-4337-a5bc-05065d5d4d68   \n",
       "4  00437712-9cc8-40b4-a277-b2203ce41878   \n",
       "\n",
       "                                            slide_id  \n",
       "0  [028ad74f-ebd7-45e5-92da-b0f2ded35fdf, 0d67764...  \n",
       "1  [0012e24b-3dd3-4226-a12e-aeeae8d18df4, 10117ed...  \n",
       "2  [06820b59-9f49-4ac2-8c42-2fa4990dcc5b, 3343d1f...  \n",
       "3  [875fc427-e1e3-4f1b-a80b-0c5db2ff4fd4, 91ebcd3...  \n",
       "4  [01ee5a84-21e5-4151-9fd8-31b145e2e9ce, 03222bf...  "
      ]
     },
     "execution_count": 58,
     "metadata": {},
     "output_type": "execute_result"
    }
   ],
   "source": [
    "# for each biopsy make a list of the slides id's by re-shaping the df. \n",
    "list_df = labels_df.groupby([\"biopsy_id\"]).agg({'slide_id': lambda x: x.tolist()}).reset_index()\n",
    "list_df.head()"
   ]
  },
  {
   "cell_type": "code",
   "execution_count": 9,
   "metadata": {},
   "outputs": [
    {
     "data": {
      "text/plain": [
       "0      None\n",
       "1      None\n",
       "2      None\n",
       "3      None\n",
       "4      None\n",
       "       ... \n",
       "881    None\n",
       "882    None\n",
       "883    None\n",
       "884    None\n",
       "885    None\n",
       "Length: 886, dtype: object"
      ]
     },
     "execution_count": 9,
     "metadata": {},
     "output_type": "execute_result"
    }
   ],
   "source": [
    "def re_pack(x):\n",
    "    biopsy_bag = np.zeros((1,2048))\n",
    "    for slide in x[\"slide_id\"]:\n",
    "        try:\n",
    "            slide_bag = np.load(\"../save_resnet_embeddings_level4_bags_bracs/resnet50_bracs_\"+slide+\".npy\")\n",
    "            biopsy_bag = np.vstack((biopsy_bag,slide_bag)).astype(np.float16)\n",
    "            # append to biopsy bag.\n",
    "        except:\n",
    "            pass\n",
    "    # save biopsy bag with biopsy id as the name.\n",
    "    biopsy_bag = biopsy_bag[1:,:]\n",
    "    np.save(\"../save_resnet_embeddings_level4_biopsy_bags_bracs_float16/\"+x[\"biopsy_id\"]+\".npy\",biopsy_bag)\n",
    "     \n",
    "# lambda function for entire set of all bags.\n",
    "list_df.apply(lambda x: re_pack(x) ,axis=1) # uncomment top do the packing!\n"
   ]
  },
  {
   "cell_type": "markdown",
   "metadata": {},
   "source": [
    "#### run only once "
   ]
  },
  {
   "cell_type": "raw",
   "metadata": {},
   "source": [
    "list_df.head()\n",
    "\n",
    "from sklearn.model_selection import train_test_split\n",
    "\n",
    "train, test= train_test_split(list_df, test_size=0.2)"
   ]
  },
  {
   "cell_type": "raw",
   "metadata": {},
   "source": [
    "train[[\"biopsy_id\",\"stage\"]].to_csv(\"train_biopsy_unbalenced.csv\")\n",
    "test[[\"biopsy_id\",\"stage\"]].to_csv(\"test_biopsy_unbalenced.csv\")"
   ]
  },
  {
   "cell_type": "raw",
   "metadata": {},
   "source": [
    "# make a balenced train set, and an unbelnced test set...\n",
    "# re-save train set but as a balenced set to see how it perfroms on the test...\n",
    "\n",
    "train_set_balenced = train.groupby('stage',group_keys=False).apply(lambda x: x.sample(50)).reset_index() # Take an even sampling of both classes \n",
    "\n",
    "train_set_balenced.head()\n",
    "\n"
   ]
  },
  {
   "cell_type": "raw",
   "metadata": {},
   "source": [
    "train_set_balenced[[\"biopsy_id\",\"stage\"]].to_csv(\"train_biopsy_balenced.csv\")"
   ]
  }
 ],
 "metadata": {
  "kernelspec": {
   "display_name": "Python 3 (ipykernel)",
   "language": "python",
   "name": "python3"
  },
  "language_info": {
   "codemirror_mode": {
    "name": "ipython",
    "version": 3
   },
   "file_extension": ".py",
   "mimetype": "text/x-python",
   "name": "python",
   "nbconvert_exporter": "python",
   "pygments_lexer": "ipython3",
   "version": "3.8.11"
  },
  "vscode": {
   "interpreter": {
    "hash": "31f2aee4e71d21fbe5cf8b01ff0e069b9275f58929596ceb00d14d90e3e16cd6"
   }
  }
 },
 "nbformat": 4,
 "nbformat_minor": 4
}
