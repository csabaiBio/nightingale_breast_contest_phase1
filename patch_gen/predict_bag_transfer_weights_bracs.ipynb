{
 "cells": [
  {
   "cell_type": "raw",
   "id": "c99908d4-b0fc-4a3e-9853-eb7d21dbe51b",
   "metadata": {},
   "source": [
    "Copyright 2022-2023 Zsolt Bedohazi, Andras Biricz, Oz Kilim, Istvan Csabai\n",
    "\n",
    "Licensed under the Apache License, Version 2.0 (the \"License\");\n",
    "you may not use this file except in compliance with the License.\n",
    "You may obtain a copy of the License at\n",
    "\n",
    "    https://www.apache.org/licenses/LICENSE-2.0\n",
    "\n",
    "Unless required by applicable law or agreed to in writing, software\n",
    "distributed under the License is distributed on an \"AS IS\" BASIS,\n",
    "WITHOUT WARRANTIES OR CONDITIONS OF ANY KIND, either express or implied.\n",
    "See the License for the specific language governing permissions and\n",
    "limitations under the License."
   ]
  },
  {
   "cell_type": "code",
   "execution_count": 1,
   "id": "ea69faad-f13a-4e1e-98d4-05c27f1b944b",
   "metadata": {},
   "outputs": [
    {
     "name": "stderr",
     "output_type": "stream",
     "text": [
      "2023-01-09 13:29:59.415528: I tensorflow/core/platform/cpu_feature_guard.cc:193] This TensorFlow binary is optimized with oneAPI Deep Neural Network Library (oneDNN) to use the following CPU instructions in performance-critical operations:  AVX2 AVX512F FMA\n",
      "To enable them in other operations, rebuild TensorFlow with the appropriate compiler flags.\n",
      "2023-01-09 13:30:01.679434: W tensorflow/compiler/xla/stream_executor/platform/default/dso_loader.cc:64] Could not load dynamic library 'libnvinfer.so.7'; dlerror: libnvinfer.so.7: cannot open shared object file: No such file or directory; LD_LIBRARY_PATH: /opt/venv/default/lib/python3.8/site-packages/cv2/../../lib64:/usr/local/nvidia/lib:/usr/local/nvidia/lib64\n",
      "2023-01-09 13:30:01.679558: W tensorflow/compiler/xla/stream_executor/platform/default/dso_loader.cc:64] Could not load dynamic library 'libnvinfer_plugin.so.7'; dlerror: libnvinfer_plugin.so.7: cannot open shared object file: No such file or directory; LD_LIBRARY_PATH: /opt/venv/default/lib/python3.8/site-packages/cv2/../../lib64:/usr/local/nvidia/lib:/usr/local/nvidia/lib64\n",
      "2023-01-09 13:30:01.679567: W tensorflow/compiler/tf2tensorrt/utils/py_utils.cc:38] TF-TRT Warning: Cannot dlopen some TensorRT libraries. If you would like to use Nvidia GPU with TensorRT, please make sure the missing libraries mentioned above are installed properly.\n"
     ]
    }
   ],
   "source": [
    "import numpy as np\n",
    "import os\n",
    "import pandas as pd\n",
    "import json\n",
    "from PIL import Image\n",
    "import cv2\n",
    "import matplotlib.pyplot as plt\n",
    "import glob\n",
    "from tqdm import tqdm\n",
    "import zlib\n",
    "import bz2\n",
    "import tensorflow as tf"
   ]
  },
  {
   "cell_type": "code",
   "execution_count": 2,
   "id": "77aa4e02-ac59-4b03-8bd9-56a6f27477ab",
   "metadata": {},
   "outputs": [],
   "source": [
    "parent_folder = '/home/ngsci/project/'\n",
    "img_folder_path = parent_folder+'save_resnet_embeddings_level4_bags_bracs/'\n",
    "resnet_pred_folder_path = parent_folder+'save_resnet_pred_level4_bags_bracs/'"
   ]
  },
  {
   "cell_type": "code",
   "execution_count": 3,
   "id": "67352ca2-908c-4663-96e9-7213ea7f6ac6",
   "metadata": {},
   "outputs": [],
   "source": [
    "os.makedirs(resnet_pred_folder_path, exist_ok=True)"
   ]
  },
  {
   "cell_type": "code",
   "execution_count": 4,
   "id": "0ebe6a1b-af29-4953-bae8-dd9329bdd940",
   "metadata": {},
   "outputs": [],
   "source": [
    "img_bags = np.array( sorted( [ i for i in os.listdir(img_folder_path) if '.npy' in i ] ) )"
   ]
  },
  {
   "cell_type": "code",
   "execution_count": 5,
   "id": "8a6e72b0-336f-46b6-b047-18603e51e491",
   "metadata": {},
   "outputs": [
    {
     "data": {
      "text/plain": [
       "(array(['resnet50_bracs_0000459a-838d-4865-8bbf-ea66f2e5ee4d.npy',\n",
       "        'resnet50_bracs_0001669a-9515-42f2-926b-48f153fd9643.npy',\n",
       "        'resnet50_bracs_00018c3b-e8c7-49db-9831-7802bde48706.npy'],\n",
       "       dtype='<U55'),\n",
       " (62284,))"
      ]
     },
     "execution_count": 5,
     "metadata": {},
     "output_type": "execute_result"
    }
   ],
   "source": [
    "img_bags[:3], img_bags.shape"
   ]
  },
  {
   "cell_type": "code",
   "execution_count": 6,
   "id": "eee6575f-4bb1-4f19-befe-2f0209e9b488",
   "metadata": {},
   "outputs": [
    {
     "name": "stderr",
     "output_type": "stream",
     "text": [
      "2023-01-09 13:30:03.299725: W tensorflow/compiler/xla/stream_executor/platform/default/dso_loader.cc:64] Could not load dynamic library 'libcuda.so.1'; dlerror: libcuda.so.1: cannot open shared object file: No such file or directory; LD_LIBRARY_PATH: /opt/venv/default/lib/python3.8/site-packages/cv2/../../lib64:/usr/local/nvidia/lib:/usr/local/nvidia/lib64\n",
      "2023-01-09 13:30:03.299765: W tensorflow/compiler/xla/stream_executor/cuda/cuda_driver.cc:265] failed call to cuInit: UNKNOWN ERROR (303)\n",
      "2023-01-09 13:30:03.299786: I tensorflow/compiler/xla/stream_executor/cuda/cuda_diagnostics.cc:156] kernel driver does not appear to be running on this host (ip-10-110-15-252.ec2.internal): /proc/driver/nvidia/version does not exist\n",
      "2023-01-09 13:30:03.299974: I tensorflow/core/platform/cpu_feature_guard.cc:193] This TensorFlow binary is optimized with oneAPI Deep Neural Network Library (oneDNN) to use the following CPU instructions in performance-critical operations:  AVX2 AVX512F FMA\n",
      "To enable them in other operations, rebuild TensorFlow with the appropriate compiler flags.\n"
     ]
    }
   ],
   "source": [
    "backbone = tf.keras.applications.ResNet50(include_top=False, weights='imagenet', pooling='avg')\n",
    "backbone.trainable = False\n",
    "\n",
    "def get_model():\n",
    "    inp = tf.keras.layers.Input(shape=(2048,))\n",
    "    fc = tf.keras.layers.Dense(128, activation='relu')(inp)\n",
    "    fc = tf.keras.layers.BatchNormalization()(fc)\n",
    "    fc = tf.keras.layers.Dropout(0.5)(fc)\n",
    "    fc = tf.keras.layers.Dense(128, activation='relu')(fc)\n",
    "    fc = tf.keras.layers.BatchNormalization()(fc)\n",
    "    fc = tf.keras.layers.Dropout(0.25)(fc)\n",
    "    out = tf.keras.layers.Dense(7, activation='sigmoid')(fc)\n",
    "    model = tf.keras.models.Model(inputs=inp, outputs=out)\n",
    "    \n",
    "    return model\n",
    "\n",
    "# https://stackoverflow.com/questions/43702323/how-to-load-only-specific-weights-on-keras\n",
    "\n",
    "backbone_transfer = tf.keras.applications.ResNet50(include_top=False, weights='imagenet', pooling='avg')\n",
    "backbone_transfer.trainable = False\n",
    "\n",
    "def get_model_transfer():\n",
    "    inp = tf.keras.layers.Input(shape=(224, 224, 3))\n",
    "    x = tf.keras.applications.resnet50.preprocess_input(inp)\n",
    "    x = backbone(x)\n",
    "    x = tf.keras.layers.Flatten()(x)\n",
    "    fc = tf.keras.layers.Dense(128, activation='relu')(x)\n",
    "    fc = tf.keras.layers.BatchNormalization()(fc)\n",
    "    fc = tf.keras.layers.Dropout(0.5)(fc)\n",
    "    fc = tf.keras.layers.Dense(128, activation='relu')(fc)\n",
    "    fc = tf.keras.layers.BatchNormalization()(fc)\n",
    "    fc = tf.keras.layers.Dropout(0.25)(fc)\n",
    "    out = tf.keras.layers.Dense(7, activation='sigmoid')(fc)\n",
    "    model = tf.keras.models.Model(inputs=inp, outputs=out)\n",
    "    \n",
    "    return model"
   ]
  },
  {
   "cell_type": "code",
   "execution_count": 7,
   "id": "4b2a9369-b60a-4e9a-83dd-269db1298766",
   "metadata": {},
   "outputs": [],
   "source": [
    "weights_folder = './weights_resnet50_bracs/'\n",
    "weights_name = weights_folder + 'resnet50_epoch_31.hdf5'"
   ]
  },
  {
   "cell_type": "code",
   "execution_count": 8,
   "id": "4fec5c3b-51db-4299-8ec9-1d5bcf5fa5fb",
   "metadata": {},
   "outputs": [],
   "source": [
    "model_transfer = get_model_transfer() # fine tuned model on imagenet\n",
    "model_transfer.compile(loss=tf.keras.losses.MeanSquaredError(), metrics=['mse'], optimizer=tf.keras.optimizers.Adam(learning_rate=1e-3))\n",
    "model_transfer = tf.keras.models.load_model(weights_name)"
   ]
  },
  {
   "cell_type": "code",
   "execution_count": 9,
   "id": "e0d01beb-a114-4feb-9c57-8c276a405a4e",
   "metadata": {},
   "outputs": [
    {
     "data": {
      "text/plain": [
       "8"
      ]
     },
     "execution_count": 9,
     "metadata": {},
     "output_type": "execute_result"
    }
   ],
   "source": [
    "to_load_weights = [ i.get_weights() for i in model_transfer.layers[4:] ]\n",
    "len(to_load_weights)"
   ]
  },
  {
   "cell_type": "code",
   "execution_count": 10,
   "id": "512816d2-e2c5-40bc-8365-1640514a8502",
   "metadata": {},
   "outputs": [
    {
     "data": {
      "text/plain": [
       "[<keras.layers.reshaping.flatten.Flatten at 0x7f7dc43468b0>,\n",
       " <keras.layers.core.dense.Dense at 0x7f7dd411e940>,\n",
       " <keras.layers.normalization.batch_normalization.BatchNormalization at 0x7f7dc434ff40>,\n",
       " <keras.layers.regularization.dropout.Dropout at 0x7f7dc4395160>,\n",
       " <keras.layers.core.dense.Dense at 0x7f7dc43aa0d0>,\n",
       " <keras.layers.normalization.batch_normalization.BatchNormalization at 0x7f7dc4383610>,\n",
       " <keras.layers.regularization.dropout.Dropout at 0x7f7dc438ca00>,\n",
       " <keras.layers.core.dense.Dense at 0x7f7dc438d4f0>]"
      ]
     },
     "execution_count": 10,
     "metadata": {},
     "output_type": "execute_result"
    }
   ],
   "source": [
    "model_transfer.layers[4:]"
   ]
  },
  {
   "cell_type": "code",
   "execution_count": 11,
   "id": "51397448-56f4-44cd-b26b-230bbb04ee27",
   "metadata": {},
   "outputs": [],
   "source": [
    "model = get_model()\n",
    "model.compile(loss=tf.keras.losses.MeanSquaredError(), metrics=['mse'], optimizer=tf.keras.optimizers.Adam(learning_rate=1e-3))"
   ]
  },
  {
   "cell_type": "code",
   "execution_count": 12,
   "id": "eb77b1e4-89ec-471d-8e0e-b34c18152afc",
   "metadata": {},
   "outputs": [
    {
     "data": {
      "text/plain": [
       "(<keras.layers.core.dense.Dense at 0x7f7e3256e400>,\n",
       " <keras.layers.normalization.batch_normalization.BatchNormalization at 0x7f7e3256e490>,\n",
       " <keras.layers.core.dense.Dense at 0x7f7dd412d790>,\n",
       " <keras.layers.normalization.batch_normalization.BatchNormalization at 0x7f7dac2ba5e0>,\n",
       " <keras.layers.core.dense.Dense at 0x7f7dc405fd00>)"
      ]
     },
     "execution_count": 12,
     "metadata": {},
     "output_type": "execute_result"
    }
   ],
   "source": [
    "model.layers[1], model.layers[2], model.layers[4], model.layers[5], model.layers[7]"
   ]
  },
  {
   "cell_type": "code",
   "execution_count": 13,
   "id": "cd8a56cf-0e0f-44e5-9a24-cd07156d52ac",
   "metadata": {},
   "outputs": [
    {
     "data": {
      "text/plain": [
       "<keras.layers.core.dense.Dense at 0x7f7dd411e940>"
      ]
     },
     "execution_count": 13,
     "metadata": {},
     "output_type": "execute_result"
    }
   ],
   "source": [
    "model_transfer.layers[5]"
   ]
  },
  {
   "cell_type": "code",
   "execution_count": 14,
   "id": "e3eeae61-e666-4267-a881-185fd60a2f52",
   "metadata": {},
   "outputs": [],
   "source": [
    "model.layers[1].set_weights(model_transfer.layers[5].get_weights())\n",
    "model.layers[2].set_weights(model_transfer.layers[6].get_weights())\n",
    "model.layers[4].set_weights(model_transfer.layers[8].get_weights())\n",
    "model.layers[5].set_weights(model_transfer.layers[9].get_weights())\n",
    "model.layers[7].set_weights(model_transfer.layers[11].get_weights())"
   ]
  },
  {
   "cell_type": "raw",
   "id": "e50413df-2eb9-4ad0-a9ca-c5c88cc065fe",
   "metadata": {},
   "source": [
    "model.layers[1], model.layers[2], model.layers[4], model.layers[5], model.layers[7]"
   ]
  },
  {
   "cell_type": "code",
   "execution_count": 15,
   "id": "0c6fa25c-e3bf-40a4-bbb9-1b23b55dc2d2",
   "metadata": {},
   "outputs": [
    {
     "data": {
      "text/plain": [
       "(0.00014909281, 0.00014909281)"
      ]
     },
     "execution_count": 15,
     "metadata": {},
     "output_type": "execute_result"
    }
   ],
   "source": [
    "model.layers[1].get_weights()[0].mean(), model_transfer.layers[5].get_weights()[0].mean()"
   ]
  },
  {
   "cell_type": "code",
   "execution_count": 16,
   "id": "89f2192f-32a8-457b-956a-248a587d4582",
   "metadata": {},
   "outputs": [
    {
     "data": {
      "text/plain": [
       "(0.009793838, 0.009793838)"
      ]
     },
     "execution_count": 16,
     "metadata": {},
     "output_type": "execute_result"
    }
   ],
   "source": [
    "model.layers[7].get_weights()[0].mean(), model_transfer.layers[11].get_weights()[0].mean()"
   ]
  },
  {
   "cell_type": "code",
   "execution_count": 17,
   "id": "48460ec6-eb5b-494a-871e-dc1d6df3c50b",
   "metadata": {},
   "outputs": [
    {
     "data": {
      "text/plain": [
       "('/home/ngsci/project/save_resnet_embeddings_level4_bags_bracs/',\n",
       " 'resnet50_bracs_0000459a-838d-4865-8bbf-ea66f2e5ee4d.npy')"
      ]
     },
     "execution_count": 17,
     "metadata": {},
     "output_type": "execute_result"
    }
   ],
   "source": [
    "img_folder_path, img_bags[0]"
   ]
  },
  {
   "cell_type": "code",
   "execution_count": 18,
   "id": "f36db8ac-38ca-4a4f-b8f7-955dee8fc4d6",
   "metadata": {},
   "outputs": [],
   "source": [
    "current_bag = np.load( img_folder_path+img_bags[0] ).astype(np.float16)"
   ]
  },
  {
   "cell_type": "code",
   "execution_count": 25,
   "id": "a250a79c-5d06-46ae-8224-d2adf7083de8",
   "metadata": {},
   "outputs": [],
   "source": [
    "parent_folder = '/home/ngsci/project/'\n",
    "img_folder_path = '/opt/ngsci/save_resnet_embeddings_level4_bags_bracs/'\n",
    "resnet_pred_folder_path = '/opt/ngsci/save_resnet_pred_level4_bags_bracs/'"
   ]
  },
  {
   "cell_type": "code",
   "execution_count": 26,
   "id": "a5f4152c-8d5a-404e-9f0f-bdb43190ee02",
   "metadata": {},
   "outputs": [],
   "source": [
    "os.makedirs(resnet_pred_folder_path, exist_ok=True)"
   ]
  },
  {
   "cell_type": "code",
   "execution_count": 27,
   "id": "d1bc6a04-9293-406b-bc15-09e789c50b16",
   "metadata": {},
   "outputs": [
    {
     "name": "stderr",
     "output_type": "stream",
     "text": [
      "100%|██████████| 62284/62284 [1:15:30<00:00, 13.75it/s]\n"
     ]
    }
   ],
   "source": [
    "errors = []\n",
    "preds = []\n",
    "for b in tqdm( range(img_bags.shape[0]) ):\n",
    "    try:\n",
    "        if not os.path.exists( resnet_pred_folder_path+img_bags[b] ):\n",
    "            current_bag = np.load( img_folder_path+img_bags[b] ).astype(np.float16)\n",
    "            resnet_pred = model.predict(x=current_bag, verbose=0)\n",
    "            preds.append( resnet_pred )\n",
    "            np.save(resnet_pred_folder_path+img_bags[b], resnet_pred)\n",
    "    except IndexError:\n",
    "        print(b, current_bag.shape )\n",
    "        errors.append( [b, current_bag.shape])"
   ]
  },
  {
   "cell_type": "code",
   "execution_count": 29,
   "id": "485d137d-b2e3-4c73-8302-2f29c14fd4ae",
   "metadata": {},
   "outputs": [
    {
     "data": {
      "text/plain": [
       "62284"
      ]
     },
     "execution_count": 29,
     "metadata": {},
     "output_type": "execute_result"
    }
   ],
   "source": [
    "len(preds)"
   ]
  },
  {
   "cell_type": "code",
   "execution_count": 30,
   "id": "6f5d4370-8d7a-49cc-9fa4-45490fb882fe",
   "metadata": {},
   "outputs": [
    {
     "data": {
      "text/plain": [
       "(25385826, 7)"
      ]
     },
     "execution_count": 30,
     "metadata": {},
     "output_type": "execute_result"
    }
   ],
   "source": [
    "preds_np = np.concatenate( preds, axis=0 )\n",
    "preds_np.shape"
   ]
  },
  {
   "cell_type": "code",
   "execution_count": null,
   "id": "9ca3dc30-abc0-4a01-859a-b2e9953a48b9",
   "metadata": {},
   "outputs": [],
   "source": []
  },
  {
   "cell_type": "code",
   "execution_count": 44,
   "id": "0b191021-9512-4e6c-9e58-c9daf66c10a9",
   "metadata": {},
   "outputs": [
    {
     "data": {
      "text/plain": [
       "([<matplotlib.axis.XTick at 0x7f7d7404daf0>,\n",
       "  <matplotlib.axis.XTick at 0x7f7d7404dac0>,\n",
       "  <matplotlib.axis.XTick at 0x7f7d740ad220>,\n",
       "  <matplotlib.axis.XTick at 0x7f7d59fc7c10>,\n",
       "  <matplotlib.axis.XTick at 0x7f7d59fcd430>,\n",
       "  <matplotlib.axis.XTick at 0x7f7d59fcdee0>,\n",
       "  <matplotlib.axis.XTick at 0x7f7d59fd19d0>],\n",
       " [Text(0, 0, 'ADH'),\n",
       "  Text(1, 0, 'DCIS'),\n",
       "  Text(2, 0, 'FEA'),\n",
       "  Text(3, 0, 'INVASIVE-CARCINOMA'),\n",
       "  Text(4, 0, 'NORMAL'),\n",
       "  Text(5, 0, 'PATHOLOGICAL-BENIGN'),\n",
       "  Text(6, 0, 'UDH')])"
      ]
     },
     "execution_count": 44,
     "metadata": {},
     "output_type": "execute_result"
    },
    {
     "data": {
      "image/png": "[encoded data removed]",
      "text/plain": [
       "<Figure size 640x480 with 1 Axes>"
      ]
     },
     "metadata": {},
     "output_type": "display_data"
    }
   ],
   "source": [
    "plt.hist( np.argmax( preds_np, axis=1 ) )\n",
    "plt.xticks( np.arange(7), ['ADH', 'DCIS', 'FEA', 'INVASIVE-CARCINOMA', 'NORMAL',\n",
    "       'PATHOLOGICAL-BENIGN', 'UDH'], rotation=90 ) "
   ]
  },
  {
   "cell_type": "code",
   "execution_count": null,
   "id": "e4f138c6-dfc7-4cf3-9773-2e304d969bac",
   "metadata": {},
   "outputs": [],
   "source": []
  },
  {
   "cell_type": "code",
   "execution_count": null,
   "id": "4b602496-83b8-4f6e-97ba-9d703d7423b9",
   "metadata": {},
   "outputs": [],
   "source": []
  }
 ],
 "metadata": {
  "kernelspec": {
   "display_name": "Python 3 (ipykernel)",
   "language": "python",
   "name": "python3"
  },
  "language_info": {
   "codemirror_mode": {
    "name": "ipython",
    "version": 3
   },
   "file_extension": ".py",
   "mimetype": "text/x-python",
   "name": "python",
   "nbconvert_exporter": "python",
   "pygments_lexer": "ipython3",
   "version": "3.8.11"
  }
 },
 "nbformat": 4,
 "nbformat_minor": 5
}
