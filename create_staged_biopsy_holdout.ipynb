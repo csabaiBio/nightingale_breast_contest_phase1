{
 "cells": [
  {
   "cell_type": "raw",
   "id": "f638f6c1-0531-4bf9-8af1-4ac89884fe91",
   "metadata": {},
   "source": [
    "Copyright 2022-2023 Zsolt Bedohazi, Andras Biricz, Oz Kilim, Istvan Csabai\n",
    "\n",
    "Licensed under the Apache License, Version 2.0 (the \"License\");\n",
    "you may not use this file except in compliance with the License.\n",
    "You may obtain a copy of the License at\n",
    "\n",
    "    https://www.apache.org/licenses/LICENSE-2.0\n",
    "\n",
    "Unless required by applicable law or agreed to in writing, software\n",
    "distributed under the License is distributed on an \"AS IS\" BASIS,\n",
    "WITHOUT WARRANTIES OR CONDITIONS OF ANY KIND, either express or implied.\n",
    "See the License for the specific language governing permissions and\n",
    "limitations under the License."
   ]
  },
  {
   "cell_type": "code",
   "execution_count": 98,
   "id": "d5390806-6694-42d6-9028-7973e0dffe73",
   "metadata": {},
   "outputs": [],
   "source": [
    "import os\n",
    "import pandas as pd\n",
    "import matplotlib.pyplot as plt\n",
    "import ngsci\n",
    "import numpy as np\n",
    "from sklearn.metrics import mean_squared_error as MSE\n",
    "\n",
    "# get holdout directories\n",
    "home = os.getenv(\"HOME\")\n",
    "holdout_dir = os.path.join(home, \"datasets\", \"brca-psj-path\", \"holdout\")\n",
    "\n",
    "# get tables describing holdout data\n",
    "slide_biopsy_map = pd.read_csv(os.path.join(holdout_dir, \"v2\", \"slide-biopsy-map.csv\"))\n",
    "biopsy_info = pd.read_csv(os.path.join(holdout_dir, \"v2\", \"biopsy-info.csv\"))\n",
    "\n",
    "pd.set_option(\"display.min_rows\", 5)"
   ]
  },
  {
   "cell_type": "code",
   "execution_count": 7,
   "id": "d2e15e92-5a3a-4257-9ebb-9f387c5dabef",
   "metadata": {},
   "outputs": [
    {
     "data": {
      "text/html": [
       "<div>\n",
       "<style scoped>\n",
       "    .dataframe tbody tr th:only-of-type {\n",
       "        vertical-align: middle;\n",
       "    }\n",
       "\n",
       "    .dataframe tbody tr th {\n",
       "        vertical-align: top;\n",
       "    }\n",
       "\n",
       "    .dataframe thead th {\n",
       "        text-align: right;\n",
       "    }\n",
       "</style>\n",
       "<table border=\"1\" class=\"dataframe\">\n",
       "  <thead>\n",
       "    <tr style=\"text-align: right;\">\n",
       "      <th></th>\n",
       "      <th>slide_id</th>\n",
       "      <th>biopsy_id</th>\n",
       "      <th>slide_path</th>\n",
       "    </tr>\n",
       "  </thead>\n",
       "  <tbody>\n",
       "    <tr>\n",
       "      <th>0</th>\n",
       "      <td>e5a01647-9785-46c8-9815-f419d4849ebc</td>\n",
       "      <td>440e3ae0-4c3d-4020-bca6-4b615d3b9fd8</td>\n",
       "      <td>/home/ngsci/datasets/brca-psj-path/holdout/ndp...</td>\n",
       "    </tr>\n",
       "    <tr>\n",
       "      <th>1</th>\n",
       "      <td>42b1650d-35ee-4de6-bee0-148fc8ea0bf0</td>\n",
       "      <td>5c0c9696-526a-4cef-ad21-92131cbb5b68</td>\n",
       "      <td>/home/ngsci/datasets/brca-psj-path/holdout/ndp...</td>\n",
       "    </tr>\n",
       "    <tr>\n",
       "      <th>2</th>\n",
       "      <td>562ca957-2238-4cbe-9075-29ef7b1a2f38</td>\n",
       "      <td>bb9ae2ca-0c7e-4280-8efa-87dc868e9585</td>\n",
       "      <td>/home/ngsci/datasets/brca-psj-path/holdout/ndp...</td>\n",
       "    </tr>\n",
       "    <tr>\n",
       "      <th>3</th>\n",
       "      <td>1e22fe77-8f05-487b-90e9-0b318e19836c</td>\n",
       "      <td>8f20b01f-9d67-4ead-85cd-c15b8c5c05fc</td>\n",
       "      <td>/home/ngsci/datasets/brca-psj-path/holdout/ndp...</td>\n",
       "    </tr>\n",
       "    <tr>\n",
       "      <th>4</th>\n",
       "      <td>c2819116-8435-4277-a93f-0b652e338699</td>\n",
       "      <td>0c159b0b-e279-4c1b-a07a-3eb510a137c0</td>\n",
       "      <td>/home/ngsci/datasets/brca-psj-path/holdout/ndp...</td>\n",
       "    </tr>\n",
       "  </tbody>\n",
       "</table>\n",
       "</div>"
      ],
      "text/plain": [
       "                               slide_id                             biopsy_id  \\\n",
       "0  e5a01647-9785-46c8-9815-f419d4849ebc  440e3ae0-4c3d-4020-bca6-4b615d3b9fd8   \n",
       "1  42b1650d-35ee-4de6-bee0-148fc8ea0bf0  5c0c9696-526a-4cef-ad21-92131cbb5b68   \n",
       "2  562ca957-2238-4cbe-9075-29ef7b1a2f38  bb9ae2ca-0c7e-4280-8efa-87dc868e9585   \n",
       "3  1e22fe77-8f05-487b-90e9-0b318e19836c  8f20b01f-9d67-4ead-85cd-c15b8c5c05fc   \n",
       "4  c2819116-8435-4277-a93f-0b652e338699  0c159b0b-e279-4c1b-a07a-3eb510a137c0   \n",
       "\n",
       "                                          slide_path  \n",
       "0  /home/ngsci/datasets/brca-psj-path/holdout/ndp...  \n",
       "1  /home/ngsci/datasets/brca-psj-path/holdout/ndp...  \n",
       "2  /home/ngsci/datasets/brca-psj-path/holdout/ndp...  \n",
       "3  /home/ngsci/datasets/brca-psj-path/holdout/ndp...  \n",
       "4  /home/ngsci/datasets/brca-psj-path/holdout/ndp...  "
      ]
     },
     "execution_count": 7,
     "metadata": {},
     "output_type": "execute_result"
    }
   ],
   "source": [
    "slide_biopsy_map.head()"
   ]
  },
  {
   "cell_type": "code",
   "execution_count": 8,
   "id": "ae02094e-05f9-46c4-ae8b-d126fd19b1d3",
   "metadata": {},
   "outputs": [
    {
     "data": {
      "text/plain": [
       "(16607, 3)"
      ]
     },
     "execution_count": 8,
     "metadata": {},
     "output_type": "execute_result"
    }
   ],
   "source": [
    "slide_biopsy_map.shape"
   ]
  },
  {
   "cell_type": "code",
   "execution_count": 9,
   "id": "4f2a197f-a5b0-46cb-b6fb-bf9841e4afed",
   "metadata": {},
   "outputs": [
    {
     "data": {
      "text/html": [
       "<div>\n",
       "<style scoped>\n",
       "    .dataframe tbody tr th:only-of-type {\n",
       "        vertical-align: middle;\n",
       "    }\n",
       "\n",
       "    .dataframe tbody tr th {\n",
       "        vertical-align: top;\n",
       "    }\n",
       "\n",
       "    .dataframe thead th {\n",
       "        text-align: right;\n",
       "    }\n",
       "</style>\n",
       "<table border=\"1\" class=\"dataframe\">\n",
       "  <thead>\n",
       "    <tr style=\"text-align: right;\">\n",
       "      <th></th>\n",
       "      <th>biopsy_id</th>\n",
       "      <th>patient_ngsci_id</th>\n",
       "      <th>is_staged</th>\n",
       "    </tr>\n",
       "  </thead>\n",
       "  <tbody>\n",
       "    <tr>\n",
       "      <th>0</th>\n",
       "      <td>8a4d332e-1fe4-4e15-8f25-83647332d392</td>\n",
       "      <td>7cbe726a-eb21-42f1-afeb-49a2230c905b</td>\n",
       "      <td>0</td>\n",
       "    </tr>\n",
       "    <tr>\n",
       "      <th>1</th>\n",
       "      <td>4a78bef1-871d-4d4c-8dc4-fa8694c45de8</td>\n",
       "      <td>c9e6de10-73f6-4c95-a793-83ab9abd9dbe</td>\n",
       "      <td>1</td>\n",
       "    </tr>\n",
       "    <tr>\n",
       "      <th>...</th>\n",
       "      <td>...</td>\n",
       "      <td>...</td>\n",
       "      <td>...</td>\n",
       "    </tr>\n",
       "    <tr>\n",
       "      <th>1075</th>\n",
       "      <td>78fd4bb3-9040-44ae-aa5d-74d7f1a27920</td>\n",
       "      <td>9a16ee94-5311-4105-b617-70d51f45f33a</td>\n",
       "      <td>1</td>\n",
       "    </tr>\n",
       "    <tr>\n",
       "      <th>1076</th>\n",
       "      <td>da3a0e00-7eb9-4e9a-a1be-e028e4849ed6</td>\n",
       "      <td>421855b0-59e6-4f97-9749-12406af103fe</td>\n",
       "      <td>1</td>\n",
       "    </tr>\n",
       "  </tbody>\n",
       "</table>\n",
       "<p>1077 rows × 3 columns</p>\n",
       "</div>"
      ],
      "text/plain": [
       "                                 biopsy_id  \\\n",
       "0     8a4d332e-1fe4-4e15-8f25-83647332d392   \n",
       "1     4a78bef1-871d-4d4c-8dc4-fa8694c45de8   \n",
       "...                                    ...   \n",
       "1075  78fd4bb3-9040-44ae-aa5d-74d7f1a27920   \n",
       "1076  da3a0e00-7eb9-4e9a-a1be-e028e4849ed6   \n",
       "\n",
       "                          patient_ngsci_id  is_staged  \n",
       "0     7cbe726a-eb21-42f1-afeb-49a2230c905b          0  \n",
       "1     c9e6de10-73f6-4c95-a793-83ab9abd9dbe          1  \n",
       "...                                    ...        ...  \n",
       "1075  9a16ee94-5311-4105-b617-70d51f45f33a          1  \n",
       "1076  421855b0-59e6-4f97-9749-12406af103fe          1  \n",
       "\n",
       "[1077 rows x 3 columns]"
      ]
     },
     "execution_count": 9,
     "metadata": {},
     "output_type": "execute_result"
    }
   ],
   "source": [
    "biopsy_info"
   ]
  },
  {
   "cell_type": "markdown",
   "id": "47aa8857-d2ca-48c5-ac41-c72627de4472",
   "metadata": {},
   "source": [
    "### create 'labels_df' for holdout set"
   ]
  },
  {
   "cell_type": "code",
   "execution_count": 10,
   "id": "9d1a6d70-e144-45e6-8563-dcc0fcdd0433",
   "metadata": {
    "tags": []
   },
   "outputs": [
    {
     "data": {
      "text/html": [
       "<div>\n",
       "<style scoped>\n",
       "    .dataframe tbody tr th:only-of-type {\n",
       "        vertical-align: middle;\n",
       "    }\n",
       "\n",
       "    .dataframe tbody tr th {\n",
       "        vertical-align: top;\n",
       "    }\n",
       "\n",
       "    .dataframe thead th {\n",
       "        text-align: right;\n",
       "    }\n",
       "</style>\n",
       "<table border=\"1\" class=\"dataframe\">\n",
       "  <thead>\n",
       "    <tr style=\"text-align: right;\">\n",
       "      <th></th>\n",
       "      <th>slide_id</th>\n",
       "      <th>biopsy_id</th>\n",
       "    </tr>\n",
       "  </thead>\n",
       "  <tbody>\n",
       "    <tr>\n",
       "      <th>0</th>\n",
       "      <td>e5a01647-9785-46c8-9815-f419d4849ebc</td>\n",
       "      <td>440e3ae0-4c3d-4020-bca6-4b615d3b9fd8</td>\n",
       "    </tr>\n",
       "    <tr>\n",
       "      <th>1</th>\n",
       "      <td>42b1650d-35ee-4de6-bee0-148fc8ea0bf0</td>\n",
       "      <td>5c0c9696-526a-4cef-ad21-92131cbb5b68</td>\n",
       "    </tr>\n",
       "    <tr>\n",
       "      <th>...</th>\n",
       "      <td>...</td>\n",
       "      <td>...</td>\n",
       "    </tr>\n",
       "    <tr>\n",
       "      <th>16605</th>\n",
       "      <td>b06274ab-c6c1-4ecb-9ad9-4552d0eaa82c</td>\n",
       "      <td>984c5e74-bcbb-4765-9715-71fcda6fb1d5</td>\n",
       "    </tr>\n",
       "    <tr>\n",
       "      <th>16606</th>\n",
       "      <td>ea6c169d-5e0b-44ce-84ce-e8aaf4edd44f</td>\n",
       "      <td>984c5e74-bcbb-4765-9715-71fcda6fb1d5</td>\n",
       "    </tr>\n",
       "  </tbody>\n",
       "</table>\n",
       "<p>14487 rows × 2 columns</p>\n",
       "</div>"
      ],
      "text/plain": [
       "                                   slide_id  \\\n",
       "0      e5a01647-9785-46c8-9815-f419d4849ebc   \n",
       "1      42b1650d-35ee-4de6-bee0-148fc8ea0bf0   \n",
       "...                                     ...   \n",
       "16605  b06274ab-c6c1-4ecb-9ad9-4552d0eaa82c   \n",
       "16606  ea6c169d-5e0b-44ce-84ce-e8aaf4edd44f   \n",
       "\n",
       "                                  biopsy_id  \n",
       "0      440e3ae0-4c3d-4020-bca6-4b615d3b9fd8  \n",
       "1      5c0c9696-526a-4cef-ad21-92131cbb5b68  \n",
       "...                                     ...  \n",
       "16605  984c5e74-bcbb-4765-9715-71fcda6fb1d5  \n",
       "16606  984c5e74-bcbb-4765-9715-71fcda6fb1d5  \n",
       "\n",
       "[14487 rows x 2 columns]"
      ]
     },
     "execution_count": 10,
     "metadata": {},
     "output_type": "execute_result"
    }
   ],
   "source": [
    "staged_biospy_holdout = (\n",
    "    slide_biopsy_map.merge(biopsy_info, on=\"biopsy_id\", how=\"left\")\n",
    "    .query(\"is_staged == 1\")\n",
    "    .loc[:, [\"slide_id\", \"biopsy_id\"]]\n",
    ")\n",
    "\n",
    "staged_biospy_holdout"
   ]
  },
  {
   "cell_type": "code",
   "execution_count": 12,
   "id": "c4874185-8596-4c32-acb9-e92b12938815",
   "metadata": {},
   "outputs": [
    {
     "data": {
      "text/plain": [
       "886"
      ]
     },
     "execution_count": 12,
     "metadata": {},
     "output_type": "execute_result"
    }
   ],
   "source": [
    "len(staged_biospy_holdout['biopsy_id'].value_counts())"
   ]
  },
  {
   "cell_type": "code",
   "execution_count": 13,
   "id": "991bf02b-3e95-4250-8607-1e6531d3dd61",
   "metadata": {},
   "outputs": [],
   "source": [
    "staged_biospy_holdout.to_csv('staged_biospy_holdout.csv')"
   ]
  }
 ],
 "metadata": {
  "kernelspec": {
   "display_name": "Python 3 (ipykernel)",
   "language": "python",
   "name": "python3"
  },
  "language_info": {
   "codemirror_mode": {
    "name": "ipython",
    "version": 3
   },
   "file_extension": ".py",
   "mimetype": "text/x-python",
   "name": "python",
   "nbconvert_exporter": "python",
   "pygments_lexer": "ipython3",
   "version": "3.8.11"
  }
 },
 "nbformat": 4,
 "nbformat_minor": 5
}
