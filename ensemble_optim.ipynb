{
 "cells": [
  {
   "cell_type": "raw",
   "id": "0e952cf8-ff6a-4044-a9f9-aa94102781ff",
   "metadata": {},
   "source": [
    "Copyright 2022-2023 Zsolt Bedohazi, Andras Biricz, Oz Kilim, Istvan Csabai\n",
    "\n",
    "Licensed under the Apache License, Version 2.0 (the \"License\");\n",
    "you may not use this file except in compliance with the License.\n",
    "You may obtain a copy of the License at\n",
    "\n",
    "    https://www.apache.org/licenses/LICENSE-2.0\n",
    "\n",
    "Unless required by applicable law or agreed to in writing, software\n",
    "distributed under the License is distributed on an \"AS IS\" BASIS,\n",
    "WITHOUT WARRANTIES OR CONDITIONS OF ANY KIND, either express or implied.\n",
    "See the License for the specific language governing permissions and\n",
    "limitations under the License."
   ]
  },
  {
   "cell_type": "code",
   "execution_count": 1,
   "id": "071f48a8-a1a3-4c61-891e-7f123d823855",
   "metadata": {},
   "outputs": [],
   "source": [
    "import numpy as np\n",
    "import torch\n",
    "from torch.nn import MSELoss\n",
    "import torch.optim as optim\n",
    "import pandas as pd\n",
    "from torch.utils.data import Dataset, DataLoader\n",
    "from tqdm import tqdm\n",
    "import time\n",
    "from torch import nn\n",
    "import pickle\n",
    "from sklearn.metrics import mean_squared_error as MSE\n",
    "from collections import Counter\n",
    "import os\n",
    "from tqdm import tqdm\n",
    "import matplotlib.pyplot as plt\n",
    "import itertools"
   ]
  },
  {
   "cell_type": "code",
   "execution_count": 3,
   "id": "2a6e7f68-93db-4985-ae9c-9b14dd9f1b48",
   "metadata": {},
   "outputs": [],
   "source": [
    "test_biopsy_unbalenced = pd.read_csv(\"./final_splits/test_biopsy_unbalenced.csv\")"
   ]
  },
  {
   "cell_type": "code",
   "execution_count": 4,
   "id": "c8ee169d-16d9-4da7-ac3f-86edcbb801aa",
   "metadata": {},
   "outputs": [],
   "source": [
    "preds_df_under_54 = pd.read_csv('preds_under_54.csv', index_col=0)\n",
    "preds_between_54_55 = pd.read_csv('preds_between_54_55.csv', index_col=0)"
   ]
  },
  {
   "cell_type": "code",
   "execution_count": 5,
   "id": "f14d4ca7-3302-4b86-8169-8168b1447695",
   "metadata": {},
   "outputs": [],
   "source": [
    "preds_df_all = pd.DataFrame()\n",
    "preds_df_all[ list(preds_df_under_54) ] = preds_df_under_54\n",
    "preds_df_all[ list(preds_between_54_55)[2:] ] = preds_between_54_55.iloc[:,2:]"
   ]
  },
  {
   "cell_type": "code",
   "execution_count": 6,
   "id": "b8cb23a3-e727-47e2-b66a-533fc799ee6b",
   "metadata": {},
   "outputs": [],
   "source": [
    "preds = preds_df_all.iloc[:,2:].values.T"
   ]
  },
  {
   "cell_type": "code",
   "execution_count": null,
   "id": "b22f5a1c-ba0a-48f4-acad-400f9ee9b51b",
   "metadata": {},
   "outputs": [],
   "source": []
  },
  {
   "cell_type": "raw",
   "id": "250f934b-ae16-41c8-ac3b-a2497a2b854b",
   "metadata": {},
   "source": [
    "pred_nr = np.arange(preds.shape[0])\n",
    "\n",
    "c = list(itertools.combinations(pred_nr, 3))\n",
    "\n",
    "subsets = np.array([list(i) for i in c])"
   ]
  },
  {
   "cell_type": "code",
   "execution_count": null,
   "id": "b50f0287-4d48-4340-96c5-d9fa485ca597",
   "metadata": {},
   "outputs": [],
   "source": []
  },
  {
   "cell_type": "code",
   "execution_count": 16,
   "id": "6d95747b-1cff-4079-87ae-acde88f07009",
   "metadata": {
    "collapsed": true,
    "jupyter": {
     "outputs_hidden": true
    },
    "tags": []
   },
   "outputs": [
    {
     "name": "stderr",
     "output_type": "stream",
     "text": [
      "100%|██████████| 27/27 [00:00<00:00, 849.74it/s]\n"
     ]
    },
    {
     "name": "stdout",
     "output_type": "stream",
     "text": [
      "3 [3] 0.5369292398599026\n"
     ]
    },
    {
     "name": "stderr",
     "output_type": "stream",
     "text": [
      "100%|██████████| 351/351 [00:00<00:00, 2427.00it/s]\n"
     ]
    },
    {
     "name": "stdout",
     "output_type": "stream",
     "text": [
      "324 [19 21] 0.506007898485689\n"
     ]
    },
    {
     "name": "stderr",
     "output_type": "stream",
     "text": [
      "100%|██████████| 2925/2925 [00:01<00:00, 2350.71it/s]\n"
     ]
    },
    {
     "name": "stdout",
     "output_type": "stream",
     "text": [
      "917 [ 3  4 21] 0.49646386594511593\n"
     ]
    },
    {
     "name": "stderr",
     "output_type": "stream",
     "text": [
      "100%|██████████| 17550/17550 [00:08<00:00, 2033.15it/s]\n"
     ]
    },
    {
     "name": "stdout",
     "output_type": "stream",
     "text": [
      "6959 [ 3  4  6 21] 0.49294908643257673\n"
     ]
    },
    {
     "name": "stderr",
     "output_type": "stream",
     "text": [
      "100%|██████████| 80730/80730 [00:38<00:00, 2089.41it/s]\n"
     ]
    },
    {
     "name": "stdout",
     "output_type": "stream",
     "text": [
      "38554 [ 3  4  6 14 21] 0.4917508098814011\n"
     ]
    },
    {
     "name": "stderr",
     "output_type": "stream",
     "text": [
      "100%|██████████| 296010/296010 [02:17<00:00, 2149.11it/s]\n"
     ]
    },
    {
     "name": "stdout",
     "output_type": "stream",
     "text": [
      "163252 [ 3  4  6 10 14 21] 0.4914808400090951\n"
     ]
    },
    {
     "name": "stderr",
     "output_type": "stream",
     "text": [
      "100%|██████████| 888030/888030 [06:32<00:00, 2264.29it/s]\n"
     ]
    },
    {
     "name": "stdout",
     "output_type": "stream",
     "text": [
      "550701 [ 3  4  6 10 14 21 22] 0.4912734082561767\n"
     ]
    },
    {
     "name": "stderr",
     "output_type": "stream",
     "text": [
      " 57%|█████▋    | 1258534/2220075 [08:05<06:11, 2590.67it/s]\n"
     ]
    },
    {
     "ename": "KeyboardInterrupt",
     "evalue": "",
     "output_type": "error",
     "traceback": [
      "\u001b[0;31m---------------------------------------------------------------------------\u001b[0m",
      "\u001b[0;31mKeyboardInterrupt\u001b[0m                         Traceback (most recent call last)",
      "Cell \u001b[0;32mIn[16], line 13\u001b[0m\n\u001b[1;32m      9\u001b[0m best_MSE \u001b[38;5;241m=\u001b[39m \u001b[38;5;241m1\u001b[39m\n\u001b[1;32m     11\u001b[0m \u001b[38;5;28;01mfor\u001b[39;00m s \u001b[38;5;129;01min\u001b[39;00m tqdm(\u001b[38;5;28mrange\u001b[39m(\u001b[38;5;28mlen\u001b[39m(subsets))):\n\u001b[0;32m---> 13\u001b[0m     current_MSE \u001b[38;5;241m=\u001b[39m \u001b[43mMSE\u001b[49m\u001b[43m(\u001b[49m\u001b[43mnp\u001b[49m\u001b[38;5;241;43m.\u001b[39;49m\u001b[43mmean\u001b[49m\u001b[43m(\u001b[49m\u001b[43mnp\u001b[49m\u001b[38;5;241;43m.\u001b[39;49m\u001b[43marray\u001b[49m\u001b[43m(\u001b[49m\u001b[43mpreds\u001b[49m\u001b[43m)\u001b[49m\u001b[43m[\u001b[49m\u001b[43m[\u001b[49m\u001b[43msubsets\u001b[49m\u001b[43m[\u001b[49m\u001b[43ms\u001b[49m\u001b[43m]\u001b[49m\u001b[43m]\u001b[49m\u001b[43m]\u001b[49m\u001b[43m,\u001b[49m\u001b[43m \u001b[49m\u001b[43maxis\u001b[49m\u001b[38;5;241;43m=\u001b[39;49m\u001b[38;5;241;43m1\u001b[39;49m\u001b[43m)\u001b[49m\u001b[43m[\u001b[49m\u001b[38;5;241;43m0\u001b[39;49m\u001b[43m]\u001b[49m\u001b[43m,\u001b[49m\u001b[43m \u001b[49m\u001b[43mtest_biopsy_unbalenced\u001b[49m\u001b[38;5;241;43m.\u001b[39;49m\u001b[43mstage\u001b[49m\u001b[38;5;241;43m.\u001b[39;49m\u001b[43mvalues\u001b[49m\u001b[43m)\u001b[49m\n\u001b[1;32m     15\u001b[0m     \u001b[38;5;28;01mif\u001b[39;00m current_MSE \u001b[38;5;241m<\u001b[39m best_MSE:\n\u001b[1;32m     16\u001b[0m         best_MSE \u001b[38;5;241m=\u001b[39m current_MSE\n",
      "File \u001b[0;32m/opt/venv/default/lib/python3.8/site-packages/sklearn/metrics/_regression.py:442\u001b[0m, in \u001b[0;36mmean_squared_error\u001b[0;34m(y_true, y_pred, sample_weight, multioutput, squared)\u001b[0m\n\u001b[1;32m    382\u001b[0m \u001b[38;5;28;01mdef\u001b[39;00m \u001b[38;5;21mmean_squared_error\u001b[39m(\n\u001b[1;32m    383\u001b[0m     y_true, y_pred, \u001b[38;5;241m*\u001b[39m, sample_weight\u001b[38;5;241m=\u001b[39m\u001b[38;5;28;01mNone\u001b[39;00m, multioutput\u001b[38;5;241m=\u001b[39m\u001b[38;5;124m\"\u001b[39m\u001b[38;5;124muniform_average\u001b[39m\u001b[38;5;124m\"\u001b[39m, squared\u001b[38;5;241m=\u001b[39m\u001b[38;5;28;01mTrue\u001b[39;00m\n\u001b[1;32m    384\u001b[0m ):\n\u001b[1;32m    385\u001b[0m     \u001b[38;5;124;03m\"\"\"Mean squared error regression loss.\u001b[39;00m\n\u001b[1;32m    386\u001b[0m \n\u001b[1;32m    387\u001b[0m \u001b[38;5;124;03m    Read more in the :ref:`User Guide <mean_squared_error>`.\u001b[39;00m\n\u001b[0;32m   (...)\u001b[0m\n\u001b[1;32m    440\u001b[0m \u001b[38;5;124;03m    0.825...\u001b[39;00m\n\u001b[1;32m    441\u001b[0m \u001b[38;5;124;03m    \"\"\"\u001b[39;00m\n\u001b[0;32m--> 442\u001b[0m     y_type, y_true, y_pred, multioutput \u001b[38;5;241m=\u001b[39m \u001b[43m_check_reg_targets\u001b[49m\u001b[43m(\u001b[49m\n\u001b[1;32m    443\u001b[0m \u001b[43m        \u001b[49m\u001b[43my_true\u001b[49m\u001b[43m,\u001b[49m\u001b[43m \u001b[49m\u001b[43my_pred\u001b[49m\u001b[43m,\u001b[49m\u001b[43m \u001b[49m\u001b[43mmultioutput\u001b[49m\n\u001b[1;32m    444\u001b[0m \u001b[43m    \u001b[49m\u001b[43m)\u001b[49m\n\u001b[1;32m    445\u001b[0m     check_consistent_length(y_true, y_pred, sample_weight)\n\u001b[1;32m    446\u001b[0m     output_errors \u001b[38;5;241m=\u001b[39m np\u001b[38;5;241m.\u001b[39maverage((y_true \u001b[38;5;241m-\u001b[39m y_pred) \u001b[38;5;241m*\u001b[39m\u001b[38;5;241m*\u001b[39m \u001b[38;5;241m2\u001b[39m, axis\u001b[38;5;241m=\u001b[39m\u001b[38;5;241m0\u001b[39m, weights\u001b[38;5;241m=\u001b[39msample_weight)\n",
      "File \u001b[0;32m/opt/venv/default/lib/python3.8/site-packages/sklearn/metrics/_regression.py:102\u001b[0m, in \u001b[0;36m_check_reg_targets\u001b[0;34m(y_true, y_pred, multioutput, dtype)\u001b[0m\n\u001b[1;32m    100\u001b[0m check_consistent_length(y_true, y_pred)\n\u001b[1;32m    101\u001b[0m y_true \u001b[38;5;241m=\u001b[39m check_array(y_true, ensure_2d\u001b[38;5;241m=\u001b[39m\u001b[38;5;28;01mFalse\u001b[39;00m, dtype\u001b[38;5;241m=\u001b[39mdtype)\n\u001b[0;32m--> 102\u001b[0m y_pred \u001b[38;5;241m=\u001b[39m \u001b[43mcheck_array\u001b[49m\u001b[43m(\u001b[49m\u001b[43my_pred\u001b[49m\u001b[43m,\u001b[49m\u001b[43m \u001b[49m\u001b[43mensure_2d\u001b[49m\u001b[38;5;241;43m=\u001b[39;49m\u001b[38;5;28;43;01mFalse\u001b[39;49;00m\u001b[43m,\u001b[49m\u001b[43m \u001b[49m\u001b[43mdtype\u001b[49m\u001b[38;5;241;43m=\u001b[39;49m\u001b[43mdtype\u001b[49m\u001b[43m)\u001b[49m\n\u001b[1;32m    104\u001b[0m \u001b[38;5;28;01mif\u001b[39;00m y_true\u001b[38;5;241m.\u001b[39mndim \u001b[38;5;241m==\u001b[39m \u001b[38;5;241m1\u001b[39m:\n\u001b[1;32m    105\u001b[0m     y_true \u001b[38;5;241m=\u001b[39m y_true\u001b[38;5;241m.\u001b[39mreshape((\u001b[38;5;241m-\u001b[39m\u001b[38;5;241m1\u001b[39m, \u001b[38;5;241m1\u001b[39m))\n",
      "File \u001b[0;32m/opt/venv/default/lib/python3.8/site-packages/sklearn/utils/validation.py:919\u001b[0m, in \u001b[0;36mcheck_array\u001b[0;34m(array, accept_sparse, accept_large_sparse, dtype, order, copy, force_all_finite, ensure_2d, allow_nd, ensure_min_samples, ensure_min_features, estimator, input_name)\u001b[0m\n\u001b[1;32m    913\u001b[0m         \u001b[38;5;28;01mraise\u001b[39;00m \u001b[38;5;167;01mValueError\u001b[39;00m(\n\u001b[1;32m    914\u001b[0m             \u001b[38;5;124m\"\u001b[39m\u001b[38;5;124mFound array with dim \u001b[39m\u001b[38;5;132;01m%d\u001b[39;00m\u001b[38;5;124m. \u001b[39m\u001b[38;5;132;01m%s\u001b[39;00m\u001b[38;5;124m expected <= 2.\u001b[39m\u001b[38;5;124m\"\u001b[39m\n\u001b[1;32m    915\u001b[0m             \u001b[38;5;241m%\u001b[39m (array\u001b[38;5;241m.\u001b[39mndim, estimator_name)\n\u001b[1;32m    916\u001b[0m         )\n\u001b[1;32m    918\u001b[0m     \u001b[38;5;28;01mif\u001b[39;00m force_all_finite:\n\u001b[0;32m--> 919\u001b[0m         \u001b[43m_assert_all_finite\u001b[49m\u001b[43m(\u001b[49m\n\u001b[1;32m    920\u001b[0m \u001b[43m            \u001b[49m\u001b[43marray\u001b[49m\u001b[43m,\u001b[49m\n\u001b[1;32m    921\u001b[0m \u001b[43m            \u001b[49m\u001b[43minput_name\u001b[49m\u001b[38;5;241;43m=\u001b[39;49m\u001b[43minput_name\u001b[49m\u001b[43m,\u001b[49m\n\u001b[1;32m    922\u001b[0m \u001b[43m            \u001b[49m\u001b[43mestimator_name\u001b[49m\u001b[38;5;241;43m=\u001b[39;49m\u001b[43mestimator_name\u001b[49m\u001b[43m,\u001b[49m\n\u001b[1;32m    923\u001b[0m \u001b[43m            \u001b[49m\u001b[43mallow_nan\u001b[49m\u001b[38;5;241;43m=\u001b[39;49m\u001b[43mforce_all_finite\u001b[49m\u001b[43m \u001b[49m\u001b[38;5;241;43m==\u001b[39;49m\u001b[43m \u001b[49m\u001b[38;5;124;43m\"\u001b[39;49m\u001b[38;5;124;43mallow-nan\u001b[39;49m\u001b[38;5;124;43m\"\u001b[39;49m\u001b[43m,\u001b[49m\n\u001b[1;32m    924\u001b[0m \u001b[43m        \u001b[49m\u001b[43m)\u001b[49m\n\u001b[1;32m    926\u001b[0m \u001b[38;5;28;01mif\u001b[39;00m ensure_min_samples \u001b[38;5;241m>\u001b[39m \u001b[38;5;241m0\u001b[39m:\n\u001b[1;32m    927\u001b[0m     n_samples \u001b[38;5;241m=\u001b[39m _num_samples(array)\n",
      "File \u001b[0;32m/opt/venv/default/lib/python3.8/site-packages/sklearn/utils/validation.py:122\u001b[0m, in \u001b[0;36m_assert_all_finite\u001b[0;34m(X, allow_nan, msg_dtype, estimator_name, input_name)\u001b[0m\n\u001b[1;32m    117\u001b[0m \u001b[38;5;66;03m# First try an O(n) time, O(1) space solution for the common case that\u001b[39;00m\n\u001b[1;32m    118\u001b[0m \u001b[38;5;66;03m# everything is finite; fall back to O(n) space `np.isinf/isnan` or custom\u001b[39;00m\n\u001b[1;32m    119\u001b[0m \u001b[38;5;66;03m# Cython implementation to prevent false positives and provide a detailed\u001b[39;00m\n\u001b[1;32m    120\u001b[0m \u001b[38;5;66;03m# error message.\u001b[39;00m\n\u001b[1;32m    121\u001b[0m \u001b[38;5;28;01mwith\u001b[39;00m np\u001b[38;5;241m.\u001b[39merrstate(over\u001b[38;5;241m=\u001b[39m\u001b[38;5;124m\"\u001b[39m\u001b[38;5;124mignore\u001b[39m\u001b[38;5;124m\"\u001b[39m):\n\u001b[0;32m--> 122\u001b[0m     first_pass_isfinite \u001b[38;5;241m=\u001b[39m xp\u001b[38;5;241m.\u001b[39misfinite(\u001b[43mxp\u001b[49m\u001b[38;5;241;43m.\u001b[39;49m\u001b[43msum\u001b[49m\u001b[43m(\u001b[49m\u001b[43mX\u001b[49m\u001b[43m)\u001b[49m)\n\u001b[1;32m    123\u001b[0m \u001b[38;5;28;01mif\u001b[39;00m first_pass_isfinite:\n\u001b[1;32m    124\u001b[0m     \u001b[38;5;28;01mreturn\u001b[39;00m\n",
      "File \u001b[0;32m<__array_function__ internals>:180\u001b[0m, in \u001b[0;36msum\u001b[0;34m(*args, **kwargs)\u001b[0m\n",
      "File \u001b[0;32m/opt/venv/default/lib/python3.8/site-packages/numpy/core/fromnumeric.py:2298\u001b[0m, in \u001b[0;36msum\u001b[0;34m(a, axis, dtype, out, keepdims, initial, where)\u001b[0m\n\u001b[1;32m   2295\u001b[0m         \u001b[38;5;28;01mreturn\u001b[39;00m out\n\u001b[1;32m   2296\u001b[0m     \u001b[38;5;28;01mreturn\u001b[39;00m res\n\u001b[0;32m-> 2298\u001b[0m \u001b[38;5;28;01mreturn\u001b[39;00m _wrapreduction(a, \u001b[43mnp\u001b[49m\u001b[38;5;241;43m.\u001b[39;49m\u001b[43madd\u001b[49m, \u001b[38;5;124m'\u001b[39m\u001b[38;5;124msum\u001b[39m\u001b[38;5;124m'\u001b[39m, axis, dtype, out, keepdims\u001b[38;5;241m=\u001b[39mkeepdims,\n\u001b[1;32m   2299\u001b[0m                       initial\u001b[38;5;241m=\u001b[39minitial, where\u001b[38;5;241m=\u001b[39mwhere)\n",
      "\u001b[0;31mKeyboardInterrupt\u001b[0m: "
     ]
    }
   ],
   "source": [
    "pred_nr = np.arange(preds.shape[0])\n",
    "\n",
    "for c in range(1,len(pred_nr)):\n",
    "    \n",
    "    c = list(itertools.combinations(pred_nr, c))\n",
    "\n",
    "    subsets = np.array([list(i) for i in c])\n",
    "\n",
    "    best_MSE = 1\n",
    "\n",
    "    for s in tqdm(range(len(subsets))):\n",
    "\n",
    "        current_MSE = MSE(np.mean(np.array(preds)[[subsets[s]]], axis=1)[0], test_biopsy_unbalenced.stage.values)\n",
    "\n",
    "        if current_MSE < best_MSE:\n",
    "            best_MSE = current_MSE\n",
    "            best_s = s\n",
    "\n",
    "    print(best_s, subsets[best_s], best_MSE)    "
   ]
  },
  {
   "cell_type": "raw",
   "id": "75b0ce53-215f-4ef0-834f-0cbba67da166",
   "metadata": {},
   "source": [
    "100%|██████████| 27/27 [00:00<00:00, 849.74it/s]\n",
    "3 [3] 0.5369292398599026\n",
    "100%|██████████| 351/351 [00:00<00:00, 2427.00it/s]\n",
    "324 [19 21] 0.506007898485689\n",
    "100%|██████████| 2925/2925 [00:01<00:00, 2350.71it/s]\n",
    "917 [ 3  4 21] 0.49646386594511593\n",
    "100%|██████████| 17550/17550 [00:08<00:00, 2033.15it/s]\n",
    "6959 [ 3  4  6 21] 0.49294908643257673\n",
    "100%|██████████| 80730/80730 [00:38<00:00, 2089.41it/s]\n",
    "38554 [ 3  4  6 14 21] 0.4917508098814011\n",
    "100%|██████████| 296010/296010 [02:17<00:00, 2149.11it/s]\n",
    "163252 [ 3  4  6 10 14 21] 0.4914808400090951\n",
    "100%|██████████| 888030/888030 [06:32<00:00, 2264.29it/s]\n",
    "550701 [ 3  4  6 10 14 21 22] 0.4912734082561767"
   ]
  },
  {
   "cell_type": "code",
   "execution_count": 19,
   "id": "fff47877-f85b-4aff-9556-e0c199697296",
   "metadata": {},
   "outputs": [
    {
     "data": {
      "text/plain": [
       "0.5041816193969849"
      ]
     },
     "execution_count": 19,
     "metadata": {},
     "output_type": "execute_result"
    }
   ],
   "source": [
    "MSE(test_biopsy_unbalenced.stage.values, np.mean(preds, axis=0))"
   ]
  },
  {
   "cell_type": "code",
   "execution_count": null,
   "id": "44d5c1f8-8986-431a-901c-00240e2dbd23",
   "metadata": {},
   "outputs": [],
   "source": []
  },
  {
   "cell_type": "code",
   "execution_count": 8,
   "id": "1df290ca-206a-4890-8a30-e6fad73f4f3a",
   "metadata": {},
   "outputs": [],
   "source": [
    "selected_models = np.array(list(preds_df_all)[2:])\n",
    "selected_models = selected_models[[3,  4,  6, 10, 14, 21, 22]]"
   ]
  },
  {
   "cell_type": "code",
   "execution_count": 9,
   "id": "db2bece1-c69c-40dc-86e7-8423be6df99e",
   "metadata": {},
   "outputs": [
    {
     "data": {
      "text/plain": [
       "array(['biopsy_model_4_bracs_3_0_53897.pth',\n",
       "       'biopsy_model_4_bracs_0_5346.pth',\n",
       "       'biopsy_model_4_bracs_1_0_53875.pth',\n",
       "       'biopsy_model_4_bracs_2_0_55158.pth',\n",
       "       'biopsy_model_4_bracs_1_0_54099.pth',\n",
       "       'biopsy_model_4_bracs_1_0_54368.pth',\n",
       "       'biopsy_model_4_bracs_3_0_55024.pth'], dtype='<U34')"
      ]
     },
     "execution_count": 9,
     "metadata": {},
     "output_type": "execute_result"
    }
   ],
   "source": [
    "selected_models"
   ]
  },
  {
   "cell_type": "code",
   "execution_count": null,
   "id": "3053fc1d-bba0-4ebc-ac28-8a4875573d57",
   "metadata": {},
   "outputs": [],
   "source": []
  },
  {
   "cell_type": "code",
   "execution_count": null,
   "id": "28db7f00-35e7-413a-910f-421bd6083bda",
   "metadata": {},
   "outputs": [],
   "source": []
  },
  {
   "cell_type": "markdown",
   "id": "d21c79a4-49c1-4cae-8992-4ffb7718c9a0",
   "metadata": {},
   "source": [
    "### inference on holdout set"
   ]
  },
  {
   "cell_type": "code",
   "execution_count": 11,
   "id": "1ab98d71-5e4b-4ffe-a7cf-89c481bbd341",
   "metadata": {},
   "outputs": [],
   "source": [
    "def inference(x, model, device):\n",
    "    \n",
    "    \n",
    "    bag = np.load(\"/home/ngsci/project/save_resnet_embeddings_level4_biopsy_bags_bracs_float16/\"+ x[\"biopsy_id\"] + \".npy\")\n",
    "    # create a batch of 1\n",
    "    if bag.shape[0] == 0: print('nulla')\n",
    "    bag = torch.tensor(np.expand_dims(bag,axis=0))\n",
    "    prediction = model(bag.float().to(device))\n",
    "    \n",
    "    return prediction.item()"
   ]
  },
  {
   "cell_type": "code",
   "execution_count": 12,
   "id": "ade4aaef-1a18-4285-863f-d97609ab943e",
   "metadata": {},
   "outputs": [],
   "source": [
    "def run_inference_on_model(model_name, csv_name=\"./final_splits/test_biopsy_unbalenced.csv\"):\n",
    "    device = torch.device('cuda:0' if torch.cuda.is_available() else 'cpu') #device config\n",
    "    \n",
    "    model = torch.load(f\"./trained_models/{model_name}\", map_location=torch.device('cpu'))\n",
    "    model = model.module.to(device)\n",
    "    \n",
    "    test_biopsy_unbalenced = pd.read_csv(csv_name)\n",
    "    \n",
    "    #test_biopsy_unbalenced[\"stage_pred\"] = test_biopsy_unbalenced.apply(lambda x: inference(x, model, device),axis=1)\n",
    "    \n",
    "    return test_biopsy_unbalenced.apply(lambda x: inference(x, model, device),axis=1).values"
   ]
  },
  {
   "cell_type": "code",
   "execution_count": null,
   "id": "0afdd0ff-c40c-418d-b7db-599552d57c59",
   "metadata": {},
   "outputs": [],
   "source": []
  },
  {
   "cell_type": "code",
   "execution_count": 13,
   "id": "fb51ed9a-7b64-42a7-9b3d-c9b4ef7883eb",
   "metadata": {},
   "outputs": [
    {
     "name": "stderr",
     "output_type": "stream",
     "text": [
      "100%|██████████| 7/7 [05:30<00:00, 47.17s/it] \n"
     ]
    }
   ],
   "source": [
    "preds_holdout = []\n",
    "\n",
    "for m in tqdm(selected_models):\n",
    "    \n",
    "    preds_holdout.append(run_inference_on_model(m, csv_name=\"./final_splits/HOLD_OUT.csv\"))"
   ]
  },
  {
   "cell_type": "code",
   "execution_count": 14,
   "id": "171a5e6c-a8bf-4a20-a7c8-085465326359",
   "metadata": {},
   "outputs": [
    {
     "name": "stderr",
     "output_type": "stream",
     "text": [
      "/tmp/ipykernel_297/3130930446.py:5: SettingWithCopyWarning: \n",
      "A value is trying to be set on a copy of a slice from a DataFrame\n",
      "\n",
      "See the caveats in the documentation: https://pandas.pydata.org/pandas-docs/stable/user_guide/indexing.html#returning-a-view-versus-a-copy\n",
      "  pred_holdout_ensemble[\"stage_pred\"][filt_4higher] = 4.0\n",
      "/tmp/ipykernel_297/3130930446.py:8: SettingWithCopyWarning: \n",
      "A value is trying to be set on a copy of a slice from a DataFrame\n",
      "\n",
      "See the caveats in the documentation: https://pandas.pydata.org/pandas-docs/stable/user_guide/indexing.html#returning-a-view-versus-a-copy\n",
      "  pred_holdout_ensemble[\"stage_pred\"][filt_0lower] = 0.0\n"
     ]
    }
   ],
   "source": [
    "pred_holdout_ensemble = pd.read_csv(\"./final_splits/HOLD_OUT.csv\", index_col=0)\n",
    "pred_holdout_ensemble['stage_pred'] =  np.mean(np.array(preds_holdout), axis=0)\n",
    "\n",
    "filt_4higher = pred_holdout_ensemble['stage_pred'] >= 4.0\n",
    "pred_holdout_ensemble[\"stage_pred\"][filt_4higher] = 4.0\n",
    "\n",
    "filt_0lower = pred_holdout_ensemble['stage_pred'] < 0.0\n",
    "pred_holdout_ensemble[\"stage_pred\"][filt_0lower] = 0.0"
   ]
  },
  {
   "cell_type": "code",
   "execution_count": null,
   "id": "6fdd08f7-85b1-4c2a-96eb-7ac6a3969515",
   "metadata": {},
   "outputs": [],
   "source": [
    "pred_holdout_ensemble.to_csv(  f'./preds/pred_{len(preds_holdout)}_ensemble_comb1.csv', index=False)"
   ]
  },
  {
   "cell_type": "code",
   "execution_count": null,
   "id": "e44d6255-215c-486e-b277-f90af5ef4c03",
   "metadata": {},
   "outputs": [],
   "source": [
    "import ngsci\n",
    "\n",
    "ngsci.submit_contest_entry(\n",
    "    f'./preds/pred_{len(preds_holdout)}_ensemble_comb1.csv', description=\"csabAIbio ensemble comb1\"\n",
    ")"
   ]
  }
 ],
 "metadata": {
  "kernelspec": {
   "display_name": "Python 3 (ipykernel)",
   "language": "python",
   "name": "python3"
  },
  "language_info": {
   "codemirror_mode": {
    "name": "ipython",
    "version": 3
   },
   "file_extension": ".py",
   "mimetype": "text/x-python",
   "name": "python",
   "nbconvert_exporter": "python",
   "pygments_lexer": "ipython3",
   "version": "3.8.11"
  }
 },
 "nbformat": 4,
 "nbformat_minor": 5
}
