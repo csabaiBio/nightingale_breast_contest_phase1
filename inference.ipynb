{
 "cells": [
  {
   "cell_type": "raw",
   "id": "2de7d111-3427-4b24-95b7-981567f978ab",
   "metadata": {},
   "source": [
    "Copyright 2022-2023 Zsolt Bedohazi, Andras Biricz, Oz Kilim, Istvan Csabai\n",
    "\n",
    "Licensed under the Apache License, Version 2.0 (the \"License\");\n",
    "you may not use this file except in compliance with the License.\n",
    "You may obtain a copy of the License at\n",
    "\n",
    "    https://www.apache.org/licenses/LICENSE-2.0\n",
    "\n",
    "Unless required by applicable law or agreed to in writing, software\n",
    "distributed under the License is distributed on an \"AS IS\" BASIS,\n",
    "WITHOUT WARRANTIES OR CONDITIONS OF ANY KIND, either express or implied.\n",
    "See the License for the specific language governing permissions and\n",
    "limitations under the License."
   ]
  },
  {
   "cell_type": "code",
   "execution_count": 79,
   "id": "6e7ff2ec-45c1-4901-8445-34ccc07a1257",
   "metadata": {},
   "outputs": [],
   "source": [
    "import numpy as np\n",
    "import torch\n",
    "from torch.nn import MSELoss\n",
    "import torch.optim as optim\n",
    "import pandas as pd\n",
    "from torch.utils.data import Dataset, DataLoader\n",
    "from tqdm import tqdm\n",
    "from model import Attention, Feature_attention\n",
    "import time\n",
    "from torch import nn\n",
    "import pickle\n",
    "from sklearn.metrics import mean_squared_error as MSE\n",
    "from collections import Counter\n",
    "import os\n",
    "from tqdm import tqdm\n",
    "import matplotlib.pyplot as plt\n",
    "import itertools"
   ]
  },
  {
   "cell_type": "code",
   "execution_count": 87,
   "id": "6468f076-0032-4972-8b8d-04d6e889db7d",
   "metadata": {},
   "outputs": [],
   "source": [
    "# create ensemble\n",
    "\n",
    "models = os.listdir('./trained_models/')\n",
    "\n",
    "model_names = np.array([i for i in models if 'biopsy_model_4_bracs_' in i])\n",
    "scores = np.array(['0.' + j.split('_')[-1].split('.')[0] for j in model_names]).astype(float)\n",
    "\n",
    "threshold1 = 0.54\n",
    "\n",
    "threshold2 = 0.552\n",
    "\n",
    "selected_scores =  np.logical_and(scores < threshold2, scores > threshold1)  \n",
    "\n",
    "selected_models = model_names[selected_scores]"
   ]
  },
  {
   "cell_type": "code",
   "execution_count": 88,
   "id": "6321dc56-9af6-42e7-bb67-8d17535c07d4",
   "metadata": {},
   "outputs": [
    {
     "data": {
      "text/plain": [
       "20"
      ]
     },
     "execution_count": 88,
     "metadata": {},
     "output_type": "execute_result"
    }
   ],
   "source": [
    "len(selected_models)"
   ]
  },
  {
   "cell_type": "code",
   "execution_count": null,
   "id": "aa1bf858-fc13-4992-a410-c77173cd0148",
   "metadata": {},
   "outputs": [],
   "source": []
  },
  {
   "cell_type": "code",
   "execution_count": 89,
   "id": "31465413-3d37-4a01-b9e0-ff3aae2b6f92",
   "metadata": {},
   "outputs": [],
   "source": [
    "def inference(x, model, device):\n",
    "    \n",
    "    \n",
    "    bag = np.load(\"/home/ngsci/project/save_resnet_embeddings_level4_biopsy_bags_bracs_float16/\"+ x[\"biopsy_id\"] + \".npy\")\n",
    "    # create a batch of 1\n",
    "    if bag.shape[0] == 0: print('nulla')\n",
    "    bag = torch.tensor(np.expand_dims(bag,axis=0))\n",
    "    prediction = model(bag.float().to(device))\n",
    "    \n",
    "    return prediction.item()"
   ]
  },
  {
   "cell_type": "code",
   "execution_count": 90,
   "id": "07108f06-c41f-49bf-86ff-4ca910877308",
   "metadata": {},
   "outputs": [],
   "source": [
    "def run_inference_on_model(model_name, csv_name=\"./final_splits/test_biopsy_unbalenced.csv\"):\n",
    "    device = torch.device('cuda:0' if torch.cuda.is_available() else 'cpu') #device config\n",
    "    \n",
    "    model = torch.load(f\"./trained_models/{model_name}\", map_location=torch.device('cpu'))\n",
    "    model = model.module.to(device)\n",
    "    \n",
    "    test_biopsy_unbalenced = pd.read_csv(csv_name)\n",
    "    \n",
    "    #test_biopsy_unbalenced[\"stage_pred\"] = test_biopsy_unbalenced.apply(lambda x: inference(x, model, device),axis=1)\n",
    "    \n",
    "    return test_biopsy_unbalenced.apply(lambda x: inference(x, model, device),axis=1).values"
   ]
  },
  {
   "cell_type": "code",
   "execution_count": 91,
   "id": "de2236dd-9b4c-4d85-bddb-0debe95bb179",
   "metadata": {},
   "outputs": [
    {
     "name": "stderr",
     "output_type": "stream",
     "text": [
      "100%|██████████| 20/20 [2:59:38<00:00, 538.90s/it]  \n"
     ]
    }
   ],
   "source": [
    "preds = []\n",
    "\n",
    "for m in tqdm(selected_models):\n",
    "    \n",
    "    preds.append(run_inference_on_model(m))"
   ]
  },
  {
   "cell_type": "code",
   "execution_count": 92,
   "id": "adf25276-6752-4918-bc45-766a622d500c",
   "metadata": {},
   "outputs": [
    {
     "data": {
      "text/plain": [
       "20"
      ]
     },
     "execution_count": 92,
     "metadata": {},
     "output_type": "execute_result"
    }
   ],
   "source": [
    "len(preds)"
   ]
  },
  {
   "cell_type": "raw",
   "id": "cf610cbf-8b1a-45e6-b6ae-5336010936f6",
   "metadata": {},
   "source": [
    "# saving preds under 54\n",
    "test_biopsy_unbalenced = pd.read_csv(\"./final_splits/test_biopsy_unbalenced.csv\")\n",
    "\n",
    "preds_under_54 = pd.DataFrame()\n",
    "preds_under_54['biopsy_id'] = test_biopsy_unbalenced['biopsy_id'].values\n",
    "preds_under_54['stage'] = test_biopsy_unbalenced['stage'].values\n",
    "\n",
    "preds_under_54[selected_models] = np.array(preds).T\n",
    "\n",
    "preds_under_54.to_csv('preds_under_54.csv')"
   ]
  },
  {
   "cell_type": "code",
   "execution_count": null,
   "id": "509e5311-0e22-4629-b775-a96a6d81c8ec",
   "metadata": {},
   "outputs": [],
   "source": []
  },
  {
   "cell_type": "code",
   "execution_count": 93,
   "id": "b3bb745e-5cc1-40c0-9f2c-6fc953ed85a2",
   "metadata": {},
   "outputs": [],
   "source": [
    "# saving preds between 54 and 55\n",
    "test_biopsy_unbalenced = pd.read_csv(\"./final_splits/test_biopsy_unbalenced.csv\")\n",
    "\n",
    "preds_between_54_55 = pd.DataFrame()\n",
    "preds_between_54_55['biopsy_id'] = test_biopsy_unbalenced['biopsy_id'].values\n",
    "preds_between_54_55['stage'] = test_biopsy_unbalenced['stage'].values\n",
    "\n",
    "preds_between_54_55[selected_models] = np.array(preds).T\n",
    "\n",
    "preds_between_54_55.to_csv('preds_between_54_55.csv')"
   ]
  },
  {
   "cell_type": "code",
   "execution_count": null,
   "id": "2968ccf6-66ee-41ef-9950-68adbe3f25d5",
   "metadata": {},
   "outputs": [],
   "source": []
  },
  {
   "cell_type": "code",
   "execution_count": null,
   "id": "25c12ed8-9379-45a2-8a20-ec699605db85",
   "metadata": {},
   "outputs": [],
   "source": []
  },
  {
   "cell_type": "code",
   "execution_count": null,
   "id": "8a3a7b11-4e12-48dd-9c29-cbf5c9859af3",
   "metadata": {},
   "outputs": [],
   "source": []
  },
  {
   "cell_type": "code",
   "execution_count": 36,
   "id": "bddcaf53-c4c0-45dd-9424-6ba2d80f07ce",
   "metadata": {},
   "outputs": [],
   "source": [
    "pred_nr = np.arange(7)\n",
    "\n",
    "c = list(itertools.combinations(pred_nr, 3))\n",
    "\n",
    "subsets = np.array([list(i) for i in c])"
   ]
  },
  {
   "cell_type": "code",
   "execution_count": 58,
   "id": "a5850c97-a121-4671-8ffa-7cfd1f447935",
   "metadata": {},
   "outputs": [
    {
     "data": {
      "text/plain": [
       "array([[0, 1, 2],\n",
       "       [0, 1, 3],\n",
       "       [0, 1, 4]])"
      ]
     },
     "execution_count": 58,
     "metadata": {},
     "output_type": "execute_result"
    }
   ],
   "source": [
    "subsets[:3]"
   ]
  },
  {
   "cell_type": "code",
   "execution_count": 67,
   "id": "475b4bce-6f28-495e-910a-350a75d7178f",
   "metadata": {},
   "outputs": [
    {
     "name": "stdout",
     "output_type": "stream",
     "text": [
      "32 0.4993289455835525\n"
     ]
    }
   ],
   "source": [
    "best_MSE = 1\n",
    "\n",
    "for s in range(len(subsets)):\n",
    "    \n",
    "    current_MSE = MSE(np.mean(np.array(preds)[[subsets[s]]], axis=1)[0], test_biopsy_unbalenced.stage.values)\n",
    "    \n",
    "    if current_MSE < best_MSE:\n",
    "        best_MSE = current_MSE\n",
    "        best_s = s\n",
    "        \n",
    "print(best_s, best_MSE)    "
   ]
  },
  {
   "cell_type": "code",
   "execution_count": 60,
   "id": "15e7047b-f985-46f6-8820-7eb7241778c0",
   "metadata": {},
   "outputs": [],
   "source": [
    "test_biopsy_unbalenced = pd.read_csv(\"./final_splits/test_biopsy_unbalenced.csv\")\n",
    "\n",
    "ensemble = pd.DataFrame()\n",
    "ensemble['biopsy_id'] = test_biopsy_unbalenced['biopsy_id'].values\n",
    "ensemble['stage'] = test_biopsy_unbalenced['stage'].values\n",
    "ensemble['stage_pred'] = np.mean(np.array(preds), axis=0)"
   ]
  },
  {
   "cell_type": "code",
   "execution_count": 61,
   "id": "bb0f58b9-b0bb-4791-8c5b-93e61a93db43",
   "metadata": {},
   "outputs": [
    {
     "data": {
      "text/plain": [
       "0.5058676191366585"
      ]
     },
     "execution_count": 61,
     "metadata": {},
     "output_type": "execute_result"
    }
   ],
   "source": [
    "MSE(ensemble.stage_pred, ensemble.stage)"
   ]
  },
  {
   "cell_type": "code",
   "execution_count": null,
   "id": "6d4edff6-8edc-4147-b2c7-b5d4df59318d",
   "metadata": {},
   "outputs": [],
   "source": []
  },
  {
   "cell_type": "markdown",
   "id": "1334e8e3-398c-4774-82a7-0ddb18e56658",
   "metadata": {},
   "source": [
    "### inference on holdout set"
   ]
  },
  {
   "cell_type": "code",
   "execution_count": 9,
   "id": "83ee2f22-bf3b-4f10-8149-50c5571e1890",
   "metadata": {},
   "outputs": [
    {
     "name": "stderr",
     "output_type": "stream",
     "text": [
      "100%|██████████| 7/7 [02:44<00:00, 23.55s/it]\n"
     ]
    }
   ],
   "source": [
    "preds_holdout = []\n",
    "\n",
    "for m in tqdm(selected_models):\n",
    "    \n",
    "    preds_holdout.append(run_inference_on_model(m, csv_name=\"./final_splits/HOLD_OUT.csv\"))"
   ]
  },
  {
   "cell_type": "code",
   "execution_count": 10,
   "id": "3407b59e-a860-46e1-a403-253927eaab45",
   "metadata": {},
   "outputs": [
    {
     "name": "stderr",
     "output_type": "stream",
     "text": [
      "/tmp/ipykernel_18416/3130930446.py:5: SettingWithCopyWarning: \n",
      "A value is trying to be set on a copy of a slice from a DataFrame\n",
      "\n",
      "See the caveats in the documentation: https://pandas.pydata.org/pandas-docs/stable/user_guide/indexing.html#returning-a-view-versus-a-copy\n",
      "  pred_holdout_ensemble[\"stage_pred\"][filt_4higher] = 4.0\n",
      "/tmp/ipykernel_18416/3130930446.py:8: SettingWithCopyWarning: \n",
      "A value is trying to be set on a copy of a slice from a DataFrame\n",
      "\n",
      "See the caveats in the documentation: https://pandas.pydata.org/pandas-docs/stable/user_guide/indexing.html#returning-a-view-versus-a-copy\n",
      "  pred_holdout_ensemble[\"stage_pred\"][filt_0lower] = 0.0\n"
     ]
    }
   ],
   "source": [
    "pred_holdout_ensemble = pd.read_csv(\"./final_splits/HOLD_OUT.csv\", index_col=0)\n",
    "pred_holdout_ensemble['stage_pred'] =  np.mean(np.array(preds_holdout), axis=0)\n",
    "\n",
    "filt_4higher = pred_holdout_ensemble['stage_pred'] >= 4.0\n",
    "pred_holdout_ensemble[\"stage_pred\"][filt_4higher] = 4.0\n",
    "\n",
    "filt_0lower = pred_holdout_ensemble['stage_pred'] < 0.0\n",
    "pred_holdout_ensemble[\"stage_pred\"][filt_0lower] = 0.0"
   ]
  },
  {
   "cell_type": "code",
   "execution_count": null,
   "id": "66747a44-877f-480c-b3bf-b9fbacbb629a",
   "metadata": {},
   "outputs": [],
   "source": []
  },
  {
   "cell_type": "code",
   "execution_count": 11,
   "id": "a12d48f8-4dc1-4722-925e-24b5553ef857",
   "metadata": {},
   "outputs": [],
   "source": [
    "pred_holdout_ensemble.to_csv(  f'./preds/pred_{len(preds_holdout)}_ensemble_under_{threshold}'.replace('0.','0_')+'.csv', index=False)"
   ]
  },
  {
   "cell_type": "code",
   "execution_count": 10,
   "id": "e29b4d64-af92-413b-af4b-ebcc00531467",
   "metadata": {},
   "outputs": [
    {
     "data": {
      "text/plain": [
       "(<Result.SUCCESS: 1>, 'Success')"
      ]
     },
     "execution_count": 10,
     "metadata": {},
     "output_type": "execute_result"
    }
   ],
   "source": [
    "import ngsci\n",
    "\n",
    "ngsci.submit_contest_entry(\n",
    "    \"preds/pred_7_ensemble_under_0_54.csv\", description=\"csabAIbio ensemble 7\"\n",
    ")"
   ]
  },
  {
   "cell_type": "code",
   "execution_count": null,
   "id": "c8c567b9-db81-4f4b-8dbc-7800397d321c",
   "metadata": {},
   "outputs": [],
   "source": []
  },
  {
   "cell_type": "code",
   "execution_count": null,
   "id": "f06e1f09-415f-47f1-91eb-e0ad0defaca3",
   "metadata": {},
   "outputs": [],
   "source": []
  },
  {
   "cell_type": "code",
   "execution_count": null,
   "id": "41fa7720-9201-4eea-92bf-ead06a5c91f1",
   "metadata": {},
   "outputs": [],
   "source": []
  },
  {
   "cell_type": "code",
   "execution_count": null,
   "id": "937f3012-0d36-40cf-8358-c14fd61a5714",
   "metadata": {},
   "outputs": [],
   "source": []
  }
 ],
 "metadata": {
  "kernelspec": {
   "display_name": "Python 3 (ipykernel)",
   "language": "python",
   "name": "python3"
  },
  "language_info": {
   "codemirror_mode": {
    "name": "ipython",
    "version": 3
   },
   "file_extension": ".py",
   "mimetype": "text/x-python",
   "name": "python",
   "nbconvert_exporter": "python",
   "pygments_lexer": "ipython3",
   "version": "3.8.11"
  }
 },
 "nbformat": 4,
 "nbformat_minor": 5
}
