{
 "cells": [
  {
   "cell_type": "raw",
   "id": "d8c22f46-d85c-4426-bd38-32e7645b960a",
   "metadata": {},
   "source": [
    "Copyright 2022-2023 Zsolt Bedohazi, Andras Biricz, Oz Kilim, Istvan Csabai\n",
    "\n",
    "Licensed under the Apache License, Version 2.0 (the \"License\");\n",
    "you may not use this file except in compliance with the License.\n",
    "You may obtain a copy of the License at\n",
    "\n",
    "    https://www.apache.org/licenses/LICENSE-2.0\n",
    "\n",
    "Unless required by applicable law or agreed to in writing, software\n",
    "distributed under the License is distributed on an \"AS IS\" BASIS,\n",
    "WITHOUT WARRANTIES OR CONDITIONS OF ANY KIND, either express or implied.\n",
    "See the License for the specific language governing permissions and\n",
    "limitations under the License."
   ]
  },
  {
   "cell_type": "markdown",
   "id": "2a6110b5",
   "metadata": {},
   "source": [
    "### Data source: https://www.bracs.icar.cnr.it/"
   ]
  },
  {
   "cell_type": "markdown",
   "id": "abcd0608",
   "metadata": {},
   "source": [
    "### Import packages"
   ]
  },
  {
   "cell_type": "code",
   "execution_count": 1,
   "id": "5c70d40e",
   "metadata": {},
   "outputs": [
    {
     "name": "stderr",
     "output_type": "stream",
     "text": [
      "2023-01-09 22:55:05.081738: I tensorflow/core/platform/cpu_feature_guard.cc:193] This TensorFlow binary is optimized with oneAPI Deep Neural Network Library (oneDNN) to use the following CPU instructions in performance-critical operations:  AVX2 AVX512F AVX512_VNNI FMA\n",
      "To enable them in other operations, rebuild TensorFlow with the appropriate compiler flags.\n"
     ]
    }
   ],
   "source": [
    "import numpy as np \n",
    "import pandas as pd \n",
    "import os\n",
    "import tensorflow as tf\n",
    "from tensorflow.keras.preprocessing.image import load_img, img_to_array\n",
    "from keras.utils.np_utils import to_categorical\n",
    "from tensorflow.keras.models import Sequential, Model\n",
    "from tensorflow.keras.layers import Dense, Flatten, Dropout, BatchNormalization,  UpSampling2D\n",
    "from tensorflow.keras.layers import ZeroPadding2D, AveragePooling2D, GlobalMaxPooling2D,MaxPooling2D\n",
    "from tensorflow.keras.layers import Conv2D, Input, Flatten, Add, Dropout, Activation\n",
    "from tensorflow.keras.initializers import glorot_uniform\n",
    "from tensorflow.keras import backend as K\n",
    "from sklearn.model_selection import StratifiedKFold\n",
    "from sklearn.metrics import f1_score, precision_score, recall_score, precision_recall_curve, accuracy_score\n",
    "from sklearn.preprocessing import LabelBinarizer\n",
    "\n",
    "import cv2\n",
    "import matplotlib.pyplot as plt\n",
    "%matplotlib inline\n",
    "\n",
    "from sklearn.model_selection import cross_val_score\n",
    "from sklearn.linear_model import LogisticRegression\n",
    "\n",
    "# to ignore displaying warnings\n",
    "import warnings\n",
    "warnings.filterwarnings(\"ignore\")\n",
    "\n",
    "from collections import Counter\n",
    "\n",
    "import seaborn as sns"
   ]
  },
  {
   "cell_type": "code",
   "execution_count": 2,
   "id": "4e506721",
   "metadata": {},
   "outputs": [],
   "source": [
    "gpus = tf.config.experimental.list_physical_devices('GPU')\n",
    "if gpus:\n",
    "  # Restrict TensorFlow to only use the first GPU\n",
    "    try:\n",
    "        tf.config.experimental.set_visible_devices(gpus[2], 'GPU')\n",
    "    except RuntimeError as e:\n",
    "    # Visible devices must be set at program startup\n",
    "        print(e)"
   ]
  },
  {
   "cell_type": "markdown",
   "id": "f27c4c9b",
   "metadata": {},
   "source": [
    "### Locate annotations"
   ]
  },
  {
   "cell_type": "code",
   "execution_count": 3,
   "id": "e5de842f",
   "metadata": {},
   "outputs": [],
   "source": [
    "parent_folder = '/local_storage/High_Risk_Breast_Cancer_2022/bracs_icar/'"
   ]
  },
  {
   "cell_type": "markdown",
   "id": "7992d6e7",
   "metadata": {},
   "source": [
    "### Load data"
   ]
  },
  {
   "cell_type": "code",
   "execution_count": 6,
   "id": "48778317",
   "metadata": {},
   "outputs": [
    {
     "name": "stdout",
     "output_type": "stream",
     "text": [
      "CPU times: user 1.58 ms, sys: 1.53 s, total: 1.53 s\n",
      "Wall time: 1.53 s\n"
     ]
    },
    {
     "data": {
      "text/plain": [
       "((7763, 224, 224, 3), (7763,))"
      ]
     },
     "execution_count": 6,
     "metadata": {},
     "output_type": "execute_result"
    }
   ],
   "source": [
    "%%time\n",
    "data = np.load( parent_folder+'bracs_level4_regions_224_data.npy' )\n",
    "label = np.load( parent_folder+'bracs_level4_regions_224_label.npy')\n",
    "data.shape, label.shape"
   ]
  },
  {
   "cell_type": "markdown",
   "id": "3f898cfa",
   "metadata": {},
   "source": [
    "### Preprocess label"
   ]
  },
  {
   "cell_type": "raw",
   "id": "c9825313",
   "metadata": {},
   "source": [
    "prev bad process:\n",
    "    Counter({'PATHOLOGICAL-BENIGN': 1372,\n",
    "         'UDH': 668,\n",
    "         'NORMAL': 659,\n",
    "         'INVASIVE-CARCINOMA': 1605,\n",
    "         'ADH': 494,\n",
    "         'FEA': 484,\n",
    "         'DCIS': 1057})"
   ]
  },
  {
   "cell_type": "code",
   "execution_count": 7,
   "id": "19ded4bb",
   "metadata": {},
   "outputs": [
    {
     "data": {
      "text/plain": [
       "Counter({'PATHOLOGICAL-BENIGN': 1733,\n",
       "         'UDH': 759,\n",
       "         'INVASIVE-CARCINOMA': 1900,\n",
       "         'NORMAL': 863,\n",
       "         'ADH': 598,\n",
       "         'FEA': 575,\n",
       "         'DCIS': 1335})"
      ]
     },
     "execution_count": 7,
     "metadata": {},
     "output_type": "execute_result"
    }
   ],
   "source": [
    "Counter(label)"
   ]
  },
  {
   "cell_type": "code",
   "execution_count": 8,
   "id": "13173567",
   "metadata": {},
   "outputs": [],
   "source": [
    "#Binary encode\n",
    "lb = LabelBinarizer()\n",
    "lb.fit(label)\n",
    "label_oh = lb.transform(label)"
   ]
  },
  {
   "cell_type": "code",
   "execution_count": 9,
   "id": "96b4322b",
   "metadata": {},
   "outputs": [
    {
     "data": {
      "text/plain": [
       "(7763, 7)"
      ]
     },
     "execution_count": 9,
     "metadata": {},
     "output_type": "execute_result"
    }
   ],
   "source": [
    "label_oh.shape"
   ]
  },
  {
   "cell_type": "code",
   "execution_count": 10,
   "id": "ca040cf2",
   "metadata": {
    "scrolled": true
   },
   "outputs": [
    {
     "data": {
      "text/plain": [
       "array(['ADH', 'DCIS', 'FEA', 'INVASIVE-CARCINOMA', 'NORMAL',\n",
       "       'PATHOLOGICAL-BENIGN', 'UDH'], dtype='<U19')"
      ]
     },
     "execution_count": 10,
     "metadata": {},
     "output_type": "execute_result"
    }
   ],
   "source": [
    "lb.classes_"
   ]
  },
  {
   "cell_type": "code",
   "execution_count": 11,
   "id": "b6f92d67",
   "metadata": {},
   "outputs": [
    {
     "data": {
      "text/plain": [
       "array([[0, 0, 0, 0, 0, 1, 0],\n",
       "       [0, 0, 0, 0, 0, 1, 0],\n",
       "       [0, 0, 0, 0, 0, 1, 0],\n",
       "       [0, 0, 0, 0, 0, 1, 0],\n",
       "       [0, 0, 0, 0, 0, 1, 0],\n",
       "       [0, 0, 0, 0, 0, 1, 0],\n",
       "       [0, 0, 0, 0, 0, 1, 0],\n",
       "       [0, 0, 0, 0, 0, 1, 0],\n",
       "       [0, 0, 0, 0, 0, 1, 0],\n",
       "       [0, 0, 0, 0, 0, 1, 0]])"
      ]
     },
     "execution_count": 11,
     "metadata": {},
     "output_type": "execute_result"
    }
   ],
   "source": [
    "label_oh[:10]"
   ]
  },
  {
   "cell_type": "markdown",
   "id": "868c6c5a",
   "metadata": {},
   "source": [
    "### Define model"
   ]
  },
  {
   "cell_type": "code",
   "execution_count": 12,
   "id": "8f9e835e",
   "metadata": {},
   "outputs": [],
   "source": [
    "backbone = tf.keras.applications.ResNet50(include_top=False, weights='imagenet', pooling='avg')\n",
    "#backbone = tf.keras.applications.ResNet50( include_top=True, weights='imagenet', \n",
    "#                                           pooling='max', classifier_activation=None, classes=1)\n",
    "backbone.trainable = True\n",
    "\n",
    "def get_model():\n",
    "    inp = tf.keras.layers.Input(shape=(224, 224, 3))\n",
    "    x = tf.keras.applications.resnet50.preprocess_input(inp)\n",
    "    x = backbone(x)\n",
    "    x = tf.keras.layers.Flatten()(x)\n",
    "    fc = tf.keras.layers.Dense(128, activation='relu')(x)\n",
    "    fc = tf.keras.layers.BatchNormalization()(fc)\n",
    "    #fc = tf.keras.layers.Dropout(0.25)(fc)\n",
    "    #fc = tf.keras.layers.Dense(128, activation='relu')(fc)\n",
    "    #fc = tf.keras.layers.BatchNormalization()(fc)\n",
    "    fc = tf.keras.layers.Dropout(0.25)(fc)\n",
    "    out = tf.keras.layers.Dense(7, activation='softmax')(fc) # was SIGMOID first\n",
    "    model = tf.keras.models.Model(inputs=inp, outputs=out)\n",
    "    \n",
    "    return model\n",
    "\n",
    "model = get_model()"
   ]
  },
  {
   "cell_type": "code",
   "execution_count": 13,
   "id": "d8b1ecdf",
   "metadata": {},
   "outputs": [
    {
     "name": "stdout",
     "output_type": "stream",
     "text": [
      "Model: \"model\"\n",
      "_________________________________________________________________\n",
      " Layer (type)                Output Shape              Param #   \n",
      "=================================================================\n",
      " input_2 (InputLayer)        [(None, 224, 224, 3)]     0         \n",
      "                                                                 \n",
      " tf.__operators__.getitem (S  (None, 224, 224, 3)      0         \n",
      " licingOpLambda)                                                 \n",
      "                                                                 \n",
      " tf.nn.bias_add (TFOpLambda)  (None, 224, 224, 3)      0         \n",
      "                                                                 \n",
      " resnet50 (Functional)       (None, 2048)              23587712  \n",
      "                                                                 \n",
      " flatten (Flatten)           (None, 2048)              0         \n",
      "                                                                 \n",
      " dense (Dense)               (None, 128)               262272    \n",
      "                                                                 \n",
      " batch_normalization (BatchN  (None, 128)              512       \n",
      " ormalization)                                                   \n",
      "                                                                 \n",
      " dropout (Dropout)           (None, 128)               0         \n",
      "                                                                 \n",
      " dense_1 (Dense)             (None, 7)                 903       \n",
      "                                                                 \n",
      "=================================================================\n",
      "Total params: 23,851,399\n",
      "Trainable params: 23,798,023\n",
      "Non-trainable params: 53,376\n",
      "_________________________________________________________________\n"
     ]
    }
   ],
   "source": [
    "model.compile(loss=\"categorical_crossentropy\", optimizer=\"adam\", metrics=['accuracy'])    \n",
    "model.summary()"
   ]
  },
  {
   "cell_type": "code",
   "execution_count": 57,
   "id": "73fddf6c",
   "metadata": {},
   "outputs": [
    {
     "data": {
      "text/plain": [
       "'./weights_resnet50_bracs_softmax/'"
      ]
     },
     "execution_count": 57,
     "metadata": {},
     "output_type": "execute_result"
    }
   ],
   "source": [
    "weights_folder = './weights_resnet50_bracs_softmax/'\n",
    "weights_folder"
   ]
  },
  {
   "cell_type": "code",
   "execution_count": 58,
   "id": "ac2c5672",
   "metadata": {},
   "outputs": [],
   "source": [
    "os.makedirs( weights_folder, exist_ok=True )"
   ]
  },
  {
   "cell_type": "markdown",
   "id": "9ee6da6e",
   "metadata": {},
   "source": [
    "### Fit model"
   ]
  },
  {
   "cell_type": "raw",
   "id": "4872f8fc",
   "metadata": {},
   "source": [
    "weights_name = weights_folder + 'resnet50_bracs.hdf5'\n",
    "mc = tf.keras.callbacks.ModelCheckpoint( weights_name, \n",
    "                          monitor='val_loss', save_best_only=True, mode='min' )\n",
    "\n",
    "history = model.fit( data,\n",
    "                     label_oh,\n",
    "                     epochs=50,\n",
    "                     validation_split=0.25,\n",
    "                     batch_size=32,\n",
    "                     callbacks=mc,\n",
    "                     verbose=1 )"
   ]
  },
  {
   "cell_type": "markdown",
   "id": "3c035e6c",
   "metadata": {},
   "source": [
    "### Create balanced data loader -> balanced folds with subset ?"
   ]
  },
  {
   "cell_type": "code",
   "execution_count": 59,
   "id": "d85a8c87",
   "metadata": {},
   "outputs": [],
   "source": [
    "def create_balanced_biopsy_subset(labels, minority_class_ratio=0.2, rnd_seed=38):\n",
    "    # set random seed as given\n",
    "    np.random.seed(rnd_seed)\n",
    "    \n",
    "    # collect selected biopsies that will be in the balanced subset\n",
    "    test_local_idx = []\n",
    "    \n",
    "    # get current class occurences for biopsy\n",
    "    class_occurence = np.array(list(dict( Counter(labels) ).values()))[ np.argsort(list(dict( Counter(labels) ).keys()))]\n",
    "    #print(class_occurence)\n",
    "    \n",
    "    # calc class weights\n",
    "    class_weights = ( class_occurence / class_occurence.sum() ).astype(np.float32)\n",
    "    class_weights_dict = dict( zip( np.arange(class_weights.shape[0]), class_weights ))\n",
    "    #print(class_weights_dict)\n",
    "    \n",
    "    # how many of biopsies to include in the balanced subset\n",
    "    nr_class_test = int(labels.shape[0]*np.min(class_weights)*minority_class_ratio)\n",
    "\n",
    "    # collect biopsy indices for the balanced subset\n",
    "    for s in np.unique(labels): #loop over labelss\n",
    "        s_idx = np.arange(labels.shape[0])[labels == s]\n",
    "        rnd_idx = np.random.permutation(s_idx.shape[0])\n",
    "        test_local_idx.append(s_idx[rnd_idx[:nr_class_test]])\n",
    "\n",
    "    # aggregate all the balanced subset's indices\n",
    "    test_idx = np.concatenate(test_local_idx)\n",
    "    \n",
    "    # other indices not in balanced set will be the rest\n",
    "    train_idx = np.arange(labels.shape[0])[~np.in1d(np.arange(labels.shape[0]), test_local_idx)]\n",
    "    \n",
    "    return train_idx, test_idx#, label_remaining[]"
   ]
  },
  {
   "cell_type": "code",
   "execution_count": 60,
   "id": "d8e0c713",
   "metadata": {},
   "outputs": [],
   "source": [
    "remaining_idx, val_idx = create_balanced_biopsy_subset(label)"
   ]
  },
  {
   "cell_type": "code",
   "execution_count": 61,
   "id": "dd99a6a5",
   "metadata": {
    "scrolled": true
   },
   "outputs": [
    {
     "data": {
      "text/plain": [
       "((805, 224, 224, 3), (805, 7), (6958, 224, 224, 3), (6958,))"
      ]
     },
     "execution_count": 61,
     "metadata": {},
     "output_type": "execute_result"
    }
   ],
   "source": [
    "X_val = data[val_idx]\n",
    "y_val = label[val_idx]\n",
    "y_val = lb.transform(y_val)\n",
    "X_remaining = data[remaining_idx]\n",
    "y_remaining = label[remaining_idx]\n",
    "X_val.shape, y_val.shape, X_remaining.shape, y_remaining.shape"
   ]
  },
  {
   "cell_type": "code",
   "execution_count": 62,
   "id": "04a3fa28",
   "metadata": {},
   "outputs": [],
   "source": [
    "def give_back_balanced_training_fold( X_current, y_current,\n",
    "                                      minority_class_ratio=0.5, rnd_seed=12 ):\n",
    "    \n",
    "    _, test_idx, = create_balanced_biopsy_subset(y_current,\n",
    "                                                 minority_class_ratio,\n",
    "                                                 rnd_seed)\n",
    "    X_train_balanced = X_current[test_idx]\n",
    "    y_train_balanced = y_current[test_idx]\n",
    "    y_train_balanced_oh = lb.transform(y_train_balanced)\n",
    "    #print( X_train_balanced.shape, y_train_balanced_oh.shape )\n",
    "    \n",
    "    return X_train_balanced, y_train_balanced_oh"
   ]
  },
  {
   "cell_type": "code",
   "execution_count": 63,
   "id": "2f6180a1",
   "metadata": {
    "scrolled": true
   },
   "outputs": [
    {
     "data": {
      "text/plain": [
       "((1610, 224, 224, 3), (1610, 7))"
      ]
     },
     "execution_count": 63,
     "metadata": {},
     "output_type": "execute_result"
    }
   ],
   "source": [
    "X_train, y_train = give_back_balanced_training_fold(X_remaining, y_remaining, rnd_seed=15)\n",
    "X_train.shape, y_train.shape"
   ]
  },
  {
   "cell_type": "markdown",
   "id": "aca6c598",
   "metadata": {},
   "source": [
    "### Train ResNet50 with balanced dataset"
   ]
  },
  {
   "cell_type": "code",
   "execution_count": 80,
   "id": "db0f420b",
   "metadata": {},
   "outputs": [
    {
     "name": "stdout",
     "output_type": "stream",
     "text": [
      "Model: \"model_5\"\n",
      "_________________________________________________________________\n",
      " Layer (type)                Output Shape              Param #   \n",
      "=================================================================\n",
      " input_15 (InputLayer)       [(None, 224, 224, 3)]     0         \n",
      "                                                                 \n",
      " tf.__operators__.getitem_6   (None, 224, 224, 3)      0         \n",
      " (SlicingOpLambda)                                               \n",
      "                                                                 \n",
      " tf.nn.bias_add_6 (TFOpLambd  (None, 224, 224, 3)      0         \n",
      " a)                                                              \n",
      "                                                                 \n",
      " resnet50 (Functional)       (None, 2048)              23587712  \n",
      "                                                                 \n",
      " flatten_6 (Flatten)         (None, 2048)              0         \n",
      "                                                                 \n",
      " dense_13 (Dense)            (None, 128)               262272    \n",
      "                                                                 \n",
      " batch_normalization_7 (Batc  (None, 128)              512       \n",
      " hNormalization)                                                 \n",
      "                                                                 \n",
      " dropout_7 (Dropout)         (None, 128)               0         \n",
      "                                                                 \n",
      " dense_14 (Dense)            (None, 128)               16512     \n",
      "                                                                 \n",
      " batch_normalization_8 (Batc  (None, 128)              512       \n",
      " hNormalization)                                                 \n",
      "                                                                 \n",
      " dropout_8 (Dropout)         (None, 128)               0         \n",
      "                                                                 \n",
      " dense_15 (Dense)            (None, 7)                 903       \n",
      "                                                                 \n",
      "=================================================================\n",
      "Total params: 23,868,423\n",
      "Trainable params: 23,814,791\n",
      "Non-trainable params: 53,632\n",
      "_________________________________________________________________\n"
     ]
    }
   ],
   "source": [
    "backbone = tf.keras.applications.ResNet50(include_top=False, weights='imagenet', pooling='avg')\n",
    "#backbone = tf.keras.applications.ResNet50( include_top=True, weights='imagenet', \n",
    "#                                           pooling='max', classifier_activation=None, classes=1)\n",
    "backbone.trainable = True\n",
    "\n",
    "def get_model():\n",
    "    inp = tf.keras.layers.Input(shape=(224, 224, 3))\n",
    "    x = tf.keras.applications.resnet50.preprocess_input(inp)\n",
    "    x = backbone(x)\n",
    "    x = tf.keras.layers.Flatten()(x)\n",
    "    fc = tf.keras.layers.Dense(128, activation='relu')(x)\n",
    "    fc = tf.keras.layers.BatchNormalization()(fc)\n",
    "    fc = tf.keras.layers.Dropout(0.5)(fc)\n",
    "    fc = tf.keras.layers.Dense(128, activation='relu')(fc)\n",
    "    fc = tf.keras.layers.BatchNormalization()(fc)\n",
    "    fc = tf.keras.layers.Dropout(0.25)(fc)\n",
    "    out = tf.keras.layers.Dense(7, activation='softmax')(fc) # was SIGMOID first\n",
    "    model = tf.keras.models.Model(inputs=inp, outputs=out)\n",
    "    \n",
    "    return model\n",
    "\n",
    "model = get_model()\n",
    "\n",
    "\n",
    "model.compile( loss=\"categorical_crossentropy\", \n",
    "               optimizer=tf.keras.optimizers.Adam(learning_rate=1e-4, amsgrad=True), \n",
    "               metrics=['accuracy'])    \n",
    "model.summary()"
   ]
  },
  {
   "cell_type": "code",
   "execution_count": 81,
   "id": "73db6e60",
   "metadata": {},
   "outputs": [
    {
     "data": {
      "text/plain": [
       "'./weights_resnet50_bracs_softmax/'"
      ]
     },
     "execution_count": 81,
     "metadata": {},
     "output_type": "execute_result"
    }
   ],
   "source": [
    "weights_folder"
   ]
  },
  {
   "cell_type": "code",
   "execution_count": 82,
   "id": "26ff66e4",
   "metadata": {},
   "outputs": [
    {
     "name": "stdout",
     "output_type": "stream",
     "text": [
      "(805, 224, 224, 3) (805, 7)\n",
      "26/26 [==============================] - 32s 264ms/step - loss: 2.5995 - accuracy: 0.1826 - val_loss: 2.0239 - val_accuracy: 0.2174\n",
      "1\n",
      "26/26 [==============================] - 6s 232ms/step - loss: 2.1402 - accuracy: 0.2845 - val_loss: 1.8892 - val_accuracy: 0.2696\n",
      "2\n",
      "26/26 [==============================] - 6s 230ms/step - loss: 1.9078 - accuracy: 0.3391 - val_loss: 1.8515 - val_accuracy: 0.3205\n",
      "3\n",
      "26/26 [==============================] - 6s 231ms/step - loss: 1.7577 - accuracy: 0.3876 - val_loss: 1.7018 - val_accuracy: 0.3888\n",
      "4\n",
      "26/26 [==============================] - 6s 233ms/step - loss: 1.6859 - accuracy: 0.4323 - val_loss: 1.6194 - val_accuracy: 0.4261\n",
      "5\n",
      "26/26 [==============================] - 6s 231ms/step - loss: 1.6232 - accuracy: 0.4385 - val_loss: 1.5206 - val_accuracy: 0.4646\n",
      "6\n",
      "26/26 [==============================] - 6s 230ms/step - loss: 1.5605 - accuracy: 0.4671 - val_loss: 1.5542 - val_accuracy: 0.4857\n",
      "7\n",
      "26/26 [==============================] - 6s 231ms/step - loss: 1.5808 - accuracy: 0.4559 - val_loss: 1.4600 - val_accuracy: 0.5068\n",
      "8\n",
      "26/26 [==============================] - 6s 230ms/step - loss: 1.3763 - accuracy: 0.5267 - val_loss: 1.4135 - val_accuracy: 0.5130\n",
      "9\n",
      "26/26 [==============================] - 6s 230ms/step - loss: 1.4732 - accuracy: 0.4994 - val_loss: 1.4643 - val_accuracy: 0.5280\n",
      "10\n",
      "26/26 [==============================] - 6s 230ms/step - loss: 1.4257 - accuracy: 0.4745 - val_loss: 1.4509 - val_accuracy: 0.5205\n",
      "11\n",
      "26/26 [==============================] - 6s 229ms/step - loss: 1.3483 - accuracy: 0.5168 - val_loss: 1.4276 - val_accuracy: 0.5093\n",
      "12\n",
      "26/26 [==============================] - 6s 232ms/step - loss: 1.3337 - accuracy: 0.5429 - val_loss: 1.3833 - val_accuracy: 0.5255\n",
      "13\n",
      "26/26 [==============================] - 6s 229ms/step - loss: 1.2964 - accuracy: 0.5503 - val_loss: 1.4678 - val_accuracy: 0.5019\n",
      "14\n",
      "26/26 [==============================] - 6s 232ms/step - loss: 1.3661 - accuracy: 0.5168 - val_loss: 1.7442 - val_accuracy: 0.4497\n",
      "15\n",
      "26/26 [==============================] - 6s 232ms/step - loss: 1.2402 - accuracy: 0.5565 - val_loss: 1.6511 - val_accuracy: 0.4919\n",
      "16\n",
      "26/26 [==============================] - 6s 231ms/step - loss: 1.3156 - accuracy: 0.5528 - val_loss: 1.6876 - val_accuracy: 0.4932\n",
      "17\n",
      "26/26 [==============================] - 6s 232ms/step - loss: 1.3455 - accuracy: 0.5540 - val_loss: 1.5602 - val_accuracy: 0.5106\n",
      "18\n",
      "26/26 [==============================] - 6s 231ms/step - loss: 1.2621 - accuracy: 0.5752 - val_loss: 1.5150 - val_accuracy: 0.5168\n",
      "19\n",
      "26/26 [==============================] - 6s 231ms/step - loss: 1.1531 - accuracy: 0.6062 - val_loss: 1.3685 - val_accuracy: 0.5354\n",
      "20\n",
      "26/26 [==============================] - 6s 231ms/step - loss: 1.1876 - accuracy: 0.5925 - val_loss: 1.3132 - val_accuracy: 0.5453\n",
      "21\n",
      "26/26 [==============================] - 6s 232ms/step - loss: 1.1909 - accuracy: 0.5801 - val_loss: 1.3565 - val_accuracy: 0.5503\n",
      "22\n",
      "26/26 [==============================] - 6s 232ms/step - loss: 1.1430 - accuracy: 0.5901 - val_loss: 1.4219 - val_accuracy: 0.5366\n",
      "23\n",
      "26/26 [==============================] - 6s 233ms/step - loss: 1.2426 - accuracy: 0.5478 - val_loss: 1.3931 - val_accuracy: 0.5168\n",
      "24\n",
      "26/26 [==============================] - 6s 233ms/step - loss: 1.1417 - accuracy: 0.5863 - val_loss: 1.2897 - val_accuracy: 0.5354\n",
      "25\n",
      "26/26 [==============================] - 6s 234ms/step - loss: 1.1053 - accuracy: 0.6348 - val_loss: 1.4011 - val_accuracy: 0.5255\n",
      "26\n",
      "26/26 [==============================] - 6s 234ms/step - loss: 1.0331 - accuracy: 0.6137 - val_loss: 1.3398 - val_accuracy: 0.5404\n",
      "27\n",
      "26/26 [==============================] - 6s 231ms/step - loss: 1.0753 - accuracy: 0.6261 - val_loss: 1.3243 - val_accuracy: 0.5528\n",
      "28\n",
      "26/26 [==============================] - 6s 231ms/step - loss: 1.0209 - accuracy: 0.6311 - val_loss: 1.3136 - val_accuracy: 0.5528\n",
      "29\n",
      "26/26 [==============================] - 6s 235ms/step - loss: 1.0317 - accuracy: 0.6571 - val_loss: 1.5781 - val_accuracy: 0.5491\n",
      "30\n",
      "26/26 [==============================] - 6s 232ms/step - loss: 0.9465 - accuracy: 0.6609 - val_loss: 1.5147 - val_accuracy: 0.5317\n",
      "31\n",
      "26/26 [==============================] - 6s 231ms/step - loss: 0.9623 - accuracy: 0.6497 - val_loss: 1.4444 - val_accuracy: 0.5404\n",
      "32\n",
      "26/26 [==============================] - 6s 237ms/step - loss: 1.0369 - accuracy: 0.6298 - val_loss: 1.4612 - val_accuracy: 0.5292\n",
      "33\n",
      "26/26 [==============================] - 6s 232ms/step - loss: 0.9767 - accuracy: 0.6596 - val_loss: 1.3719 - val_accuracy: 0.5416\n",
      "34\n",
      "26/26 [==============================] - 6s 232ms/step - loss: 0.9582 - accuracy: 0.6472 - val_loss: 1.3379 - val_accuracy: 0.5391\n",
      "35\n",
      "26/26 [==============================] - 6s 232ms/step - loss: 0.9112 - accuracy: 0.6832 - val_loss: 1.3367 - val_accuracy: 0.5578\n",
      "36\n",
      "26/26 [==============================] - 6s 232ms/step - loss: 0.8741 - accuracy: 0.7106 - val_loss: 1.3533 - val_accuracy: 0.5404\n",
      "37\n",
      "26/26 [==============================] - 6s 232ms/step - loss: 0.9595 - accuracy: 0.6696 - val_loss: 1.3649 - val_accuracy: 0.5590\n",
      "38\n",
      "26/26 [==============================] - 6s 252ms/step - loss: 0.8562 - accuracy: 0.7168 - val_loss: 1.3404 - val_accuracy: 0.5540\n",
      "39\n",
      "26/26 [==============================] - 6s 232ms/step - loss: 0.8430 - accuracy: 0.7329 - val_loss: 1.3746 - val_accuracy: 0.5491\n",
      "40\n",
      "26/26 [==============================] - 6s 231ms/step - loss: 0.7772 - accuracy: 0.7217 - val_loss: 1.3553 - val_accuracy: 0.5391\n",
      "41\n",
      "26/26 [==============================] - 6s 230ms/step - loss: 0.8176 - accuracy: 0.7342 - val_loss: 1.4485 - val_accuracy: 0.5516\n",
      "42\n",
      "26/26 [==============================] - 6s 227ms/step - loss: 0.7463 - accuracy: 0.7391 - val_loss: 1.5113 - val_accuracy: 0.5329\n",
      "43\n",
      "26/26 [==============================] - 6s 229ms/step - loss: 0.8021 - accuracy: 0.7267 - val_loss: 1.5013 - val_accuracy: 0.5106\n",
      "44\n",
      "26/26 [==============================] - 6s 228ms/step - loss: 0.8545 - accuracy: 0.7019 - val_loss: 1.4460 - val_accuracy: 0.5304\n",
      "45\n",
      "26/26 [==============================] - 6s 228ms/step - loss: 0.8344 - accuracy: 0.7280 - val_loss: 1.4432 - val_accuracy: 0.5366\n",
      "46\n",
      "26/26 [==============================] - 6s 229ms/step - loss: 0.7574 - accuracy: 0.7516 - val_loss: 1.4218 - val_accuracy: 0.5280\n",
      "47\n",
      "26/26 [==============================] - 6s 230ms/step - loss: 0.9460 - accuracy: 0.6745 - val_loss: 1.4832 - val_accuracy: 0.4758\n",
      "48\n",
      "26/26 [==============================] - 6s 227ms/step - loss: 0.9236 - accuracy: 0.6845 - val_loss: 1.4537 - val_accuracy: 0.5329\n",
      "49\n",
      "26/26 [==============================] - 6s 229ms/step - loss: 0.8987 - accuracy: 0.6969 - val_loss: 1.3793 - val_accuracy: 0.5354\n"
     ]
    }
   ],
   "source": [
    "loss_history = []\n",
    "\n",
    "X_train_balanced, y_train_balanced = give_back_balanced_training_fold( X_remaining, y_remaining, \n",
    "                                                                       rnd_seed=0, minority_class_ratio=0.25 )\n",
    "print(X_train_balanced.shape, y_train_balanced.shape)\n",
    "\n",
    "weights_name = weights_folder + 'resnet50_epoch_0.hdf5'\n",
    "mc = tf.keras.callbacks.ModelCheckpoint( weights_name,\n",
    "                          monitor='val_loss', save_best_only=False, mode='min' )\n",
    "\n",
    "history = model.fit( X_train_balanced,\n",
    "                     y_train_balanced,\n",
    "                     validation_data=( X_val, y_val ), \n",
    "                     batch_size=32,\n",
    "                     callbacks=[mc],\n",
    "                     verbose=1 )\n",
    "loss_history.append( [ history.history['loss'], history.history['val_loss'] ] )\n",
    "\n",
    "\n",
    "for e in range(1,50): # epochs\n",
    "    print(e)\n",
    "    X_train_balanced, y_train_balanced = give_back_balanced_training_fold( X_remaining, y_remaining, \n",
    "                                                                           rnd_seed=int(e*1.5+3*e),\n",
    "                                                                           minority_class_ratio=0.25 )\n",
    "    \n",
    "    model.load_weights(weights_name)\n",
    "    weights_name = weights_folder + 'resnet50_epoch_' + str(e) + '.hdf5'\n",
    "    mc = tf.keras.callbacks.ModelCheckpoint( weights_name, \n",
    "                          monitor='val_loss', save_best_only=False, mode='min' )\n",
    "\n",
    "    history = model.fit( X_train_balanced,\n",
    "                     y_train_balanced,\n",
    "                     validation_data=( X_val, y_val ), \n",
    "                     batch_size=32,\n",
    "                     callbacks=[mc],\n",
    "                     verbose=1 )\n",
    "    loss_history.append( [ history.history['loss'], history.history['val_loss'] ] )"
   ]
  },
  {
   "cell_type": "code",
   "execution_count": 83,
   "id": "d3deced6",
   "metadata": {},
   "outputs": [],
   "source": [
    "loss_history = np.concatenate( loss_history, axis=1 ).T"
   ]
  },
  {
   "cell_type": "code",
   "execution_count": 84,
   "id": "e25d9124",
   "metadata": {},
   "outputs": [
    {
     "data": {
      "text/plain": [
       "(24, array([1.14168489, 1.28965354]))"
      ]
     },
     "execution_count": 84,
     "metadata": {},
     "output_type": "execute_result"
    }
   ],
   "source": [
    "np.argmin(loss_history[:,1]), loss_history[ np.argmin(loss_history[:,1]) ]"
   ]
  },
  {
   "cell_type": "code",
   "execution_count": 85,
   "id": "dcb51230",
   "metadata": {},
   "outputs": [],
   "source": [
    "filt_high = loss_history[:,1] > 10\n",
    "loss_history[filt_high,1] = np.nan"
   ]
  },
  {
   "cell_type": "code",
   "execution_count": 86,
   "id": "0f34efa3",
   "metadata": {},
   "outputs": [
    {
     "data": {
      "image/png": "[encoded data removed]",
      "text/plain": [
       "<Figure size 864x576 with 1 Axes>"
      ]
     },
     "metadata": {
      "needs_background": "light"
     },
     "output_type": "display_data"
    }
   ],
   "source": [
    "plt.figure(figsize=(12,8))\n",
    "plt.plot( np.arange(loss_history.shape[0]), loss_history[:,0], label='train' )\n",
    "plt.plot( np.arange(loss_history.shape[0]), loss_history[:,1], label='valid' )\n",
    "plt.legend(fontsize=18)\n",
    "plt.xlabel('epochs', fontsize=22)\n",
    "plt.ylabel('Cross entropy loss', fontsize=22)\n",
    "plt.tick_params(labelsize=18)\n",
    "#plt.yscale('log')"
   ]
  },
  {
   "cell_type": "markdown",
   "id": "7e7f7b23",
   "metadata": {},
   "source": [
    "### Load back best weighs"
   ]
  },
  {
   "cell_type": "raw",
   "id": "d85521bc",
   "metadata": {},
   "source": [
    "./weights_resnet50_bracs/resnet50_epoch_31.hdf5"
   ]
  },
  {
   "cell_type": "code",
   "execution_count": 87,
   "id": "8a896745",
   "metadata": {},
   "outputs": [],
   "source": [
    "model.load_weights(weights_folder+'resnet50_epoch_24.hdf5')"
   ]
  },
  {
   "cell_type": "markdown",
   "id": "e52bc7b3",
   "metadata": {},
   "source": [
    "### Eval based on each label, confusion matrix, etc.."
   ]
  },
  {
   "cell_type": "code",
   "execution_count": 88,
   "id": "d1da8dd4",
   "metadata": {},
   "outputs": [
    {
     "name": "stdout",
     "output_type": "stream",
     "text": [
      "26/26 [==============================] - 2s 41ms/step\n"
     ]
    },
    {
     "data": {
      "text/plain": [
       "(805, 7)"
      ]
     },
     "execution_count": 88,
     "metadata": {},
     "output_type": "execute_result"
    }
   ],
   "source": [
    "y_val_predict = model.predict(X_val)\n",
    "y_val_predict.shape"
   ]
  },
  {
   "cell_type": "code",
   "execution_count": 89,
   "id": "c188f7ab",
   "metadata": {},
   "outputs": [
    {
     "data": {
      "text/plain": [
       "((805,), (805,))"
      ]
     },
     "execution_count": 89,
     "metadata": {},
     "output_type": "execute_result"
    }
   ],
   "source": [
    "y_val_predict_label = np.argmax( y_val_predict, axis=1 )\n",
    "y_val_label = np.argmax( y_val, axis=1 )\n",
    "y_val_predict_label.shape, y_val_label.shape"
   ]
  },
  {
   "cell_type": "code",
   "execution_count": 90,
   "id": "02e2a5c1",
   "metadata": {},
   "outputs": [
    {
     "name": "stdout",
     "output_type": "stream",
     "text": [
      "accuracy:   0.535\n"
     ]
    }
   ],
   "source": [
    "score = accuracy_score(y_val_label, y_val_predict_label)\n",
    "print(\"accuracy:   %0.3f\" % score)"
   ]
  },
  {
   "cell_type": "code",
   "execution_count": 91,
   "id": "c336e6f8",
   "metadata": {},
   "outputs": [
    {
     "data": {
      "image/png": "[encoded data removed]",
      "text/plain": [
       "<Figure size 864x864 with 2 Axes>"
      ]
     },
     "metadata": {
      "needs_background": "light"
     },
     "output_type": "display_data"
    }
   ],
   "source": [
    "# calculating the confusion matrix\n",
    "confusion_matrix = pd.crosstab( y_val_label, y_val_predict_label,\n",
    "                                rownames=['Real type'], colnames=['Predicted type'] )\n",
    "#print( confusion_matrix )\n",
    "\n",
    "# visualizng it on a heatmap\n",
    "plt.figure(figsize=(12,12))\n",
    "plt.title( 'Confusion matrix of ResNet50')\n",
    "sns.heatmap(confusion_matrix, annot=True, xticklabels=np.array(lb.classes_), \n",
    "            yticklabels=np.array(lb.classes_), annot_kws={\"size\": 20} )\n",
    "plt.tick_params(labelsize=12, rotation=25)\n",
    "plt.xlabel('Predicted type')\n",
    "plt.show()"
   ]
  },
  {
   "cell_type": "code",
   "execution_count": 78,
   "id": "84e41687",
   "metadata": {},
   "outputs": [
    {
     "data": {
      "text/plain": [
       "array([0.04349728, 0.02826766, 0.89090574, 0.0042148 , 0.01868867,\n",
       "       0.00794708, 0.00647878], dtype=float32)"
      ]
     },
     "execution_count": 78,
     "metadata": {},
     "output_type": "execute_result"
    }
   ],
   "source": [
    "y_val_predict[0]"
   ]
  },
  {
   "cell_type": "code",
   "execution_count": null,
   "id": "1ea40511",
   "metadata": {},
   "outputs": [],
   "source": [
    "lb"
   ]
  },
  {
   "cell_type": "raw",
   "id": "6391350a",
   "metadata": {},
   "source": [
    "def plot_confusion_matrix(cm, classes,\n",
    "                          normalize=False,\n",
    "                          title='Confusion matrix',\n",
    "                          cmap=plt.cm.Blues):\n",
    "\n",
    "    plt.imshow(cm, interpolation='nearest', cmap=cmap)\n",
    "    plt.title(title)\n",
    "    plt.colorbar()\n",
    "    tick_marks = np.arange(len(classes))\n",
    "    print(classes)\n",
    "    #plt.xticks(tick_marks, classes, rotation=45)\n",
    "    #plt.yticks(tick_marks, classes)\n",
    "\n",
    "    if normalize:\n",
    "        cm = cm.astype('float') / cm.sum(axis=1)[:, np.newaxis]\n",
    "        print(\"Normalized confusion matrix\")\n",
    "    else:\n",
    "        print('Confusion matrix, without normalization')\n",
    "\n",
    "    thresh = cm.max() / 2.\n",
    "    for i, j in itertools.product(range(cm.shape[0]), range(cm.shape[1])):\n",
    "        plt.text(j, i, cm[i, j],\n",
    "                 horizontalalignment=\"center\",\n",
    "                 color=\"white\" if cm[i, j] > thresh else \"black\")\n",
    "\n",
    "    plt.tight_layout()\n",
    "    plt.ylabel('True label')\n",
    "    plt.xlabel('Predicted label')\n",
    "\n",
    "\n",
    "score = metrics.accuracy_score(y_val_label, y_val_predict_label)\n",
    "print(\"accuracy:   %0.3f\" % score)\n",
    "\n",
    "cm = metrics.confusion_matrix(y_val_label, y_val_predict_label)\n",
    "plot_confusion_matrix(cm, classes=['True', 'False'])"
   ]
  },
  {
   "cell_type": "code",
   "execution_count": null,
   "id": "a856f3f4",
   "metadata": {},
   "outputs": [],
   "source": []
  },
  {
   "cell_type": "code",
   "execution_count": 79,
   "id": "409a5b0e",
   "metadata": {},
   "outputs": [
    {
     "data": {
      "text/plain": [
       "array([2, 1, 2, 5, 1, 1, 1, 6, 1, 5, 6, 3, 6, 5, 4, 1, 0, 0, 1, 1, 2, 1,\n",
       "       2, 1, 1, 1, 1, 6, 2, 6, 1, 1, 3, 0, 6, 4, 4, 4, 1, 2, 4, 0, 5, 1,\n",
       "       1, 2, 6, 6, 2, 1, 1, 1, 1, 0, 6, 1, 4, 1, 2, 6, 6, 1, 1, 2, 2, 6,\n",
       "       0, 1, 5, 1, 6, 2, 6, 0, 0, 2, 1, 6, 5, 2, 2, 0, 1, 1, 1, 6, 3, 0,\n",
       "       1, 2, 2, 0, 1, 5, 2, 1, 0, 2, 3, 2, 6, 3, 1, 6, 2, 2, 2, 1, 6, 6,\n",
       "       1, 1, 1, 1, 1, 1, 3, 1, 1, 1, 1, 3, 1, 1, 1, 1, 1, 1, 1, 1, 1, 1,\n",
       "       1, 2, 0, 2, 0, 1, 4, 1, 1, 1, 1, 1, 0, 1, 3, 1, 0, 1, 1, 1, 1, 1,\n",
       "       1, 1, 1, 1, 4, 5, 1, 6, 1, 5, 1, 1, 1, 1, 2, 5, 3, 1, 2, 6, 6, 1,\n",
       "       3, 4, 1, 1, 3, 1, 1, 1, 1, 1, 1, 1, 1, 3, 3, 3, 3, 1, 1, 1, 1, 0,\n",
       "       1, 1, 1, 1, 3, 1, 1, 1, 1, 1, 1, 1, 1, 1, 3, 1, 1, 1, 0, 1, 1, 1,\n",
       "       3, 1, 1, 3, 1, 1, 4, 2, 1, 1, 2, 2, 2, 5, 2, 6, 1, 2, 1, 4, 5, 2,\n",
       "       2, 2, 3, 1, 2, 2, 6, 2, 2, 2, 2, 2, 5, 2, 2, 2, 2, 2, 2, 2, 6, 2,\n",
       "       2, 2, 5, 2, 2, 2, 2, 2, 1, 2, 2, 2, 2, 2, 3, 2, 2, 2, 2, 4, 2, 3,\n",
       "       2, 2, 3, 2, 2, 2, 0, 2, 4, 2, 2, 2, 4, 2, 2, 1, 2, 2, 5, 2, 2, 2,\n",
       "       5, 6, 6, 0, 2, 2, 3, 2, 6, 5, 2, 0, 2, 2, 1, 2, 5, 2, 2, 2, 6, 0,\n",
       "       4, 0, 0, 2, 2, 1, 4, 2, 2, 2, 0, 4, 0, 2, 4, 3, 3, 3, 3, 3, 3, 3,\n",
       "       3, 3, 3, 3, 3, 5, 3, 3, 3, 3, 3, 3, 3, 3, 3, 3, 3, 3, 3, 3, 1, 3,\n",
       "       3, 3, 3, 3, 3, 3, 3, 3, 3, 1, 3, 3, 5, 3, 6, 3, 3, 3, 3, 3, 3, 3,\n",
       "       3, 3, 3, 3, 3, 2, 3, 1, 3, 3, 3, 3, 3, 3, 3, 3, 3, 3, 1, 3, 3, 3,\n",
       "       3, 3, 3, 3, 3, 3, 1, 3, 3, 3, 0, 3, 3, 3, 3, 3, 3, 3, 3, 3, 3, 3,\n",
       "       3, 3, 3, 3, 3, 3, 3, 3, 3, 3, 1, 3, 3, 0, 3, 2, 3, 3, 3, 3, 6, 4,\n",
       "       5, 4, 4, 4, 4, 2, 4, 5, 4, 4, 4, 4, 4, 6, 4, 4, 4, 4, 4, 3, 4, 4,\n",
       "       1, 2, 4, 4, 4, 4, 3, 6, 4, 4, 5, 1, 4, 4, 5, 1, 6, 4, 4, 4, 4, 1,\n",
       "       6, 4, 4, 4, 4, 4, 6, 4, 4, 4, 4, 4, 1, 4, 3, 4, 5, 4, 4, 4, 4, 4,\n",
       "       4, 4, 4, 4, 5, 6, 4, 4, 4, 4, 4, 4, 4, 4, 4, 4, 4, 5, 4, 0, 5, 3,\n",
       "       4, 4, 4, 4, 4, 4, 4, 4, 5, 4, 3, 4, 4, 4, 5, 4, 4, 5, 4, 5, 4, 4,\n",
       "       4, 4, 4, 4, 4, 5, 0, 6, 5, 4, 4, 0, 3, 5, 5, 3, 5, 5, 5, 5, 5, 5,\n",
       "       5, 4, 5, 2, 2, 4, 1, 2, 4, 5, 5, 0, 6, 4, 5, 4, 5, 1, 3, 5, 4, 4,\n",
       "       2, 4, 5, 1, 5, 5, 1, 4, 4, 2, 3, 5, 5, 2, 5, 5, 6, 2, 2, 5, 2, 2,\n",
       "       5, 5, 5, 5, 5, 5, 2, 3, 5, 4, 5, 4, 5, 4, 2, 5, 5, 3, 6, 4, 6, 5,\n",
       "       5, 5, 5, 2, 0, 4, 4, 5, 5, 2, 5, 5, 2, 5, 2, 5, 4, 5, 4, 5, 5, 5,\n",
       "       2, 5, 6, 6, 5, 5, 5, 2, 4, 5, 2, 5, 6, 1, 0, 3, 0, 0, 2, 4, 1, 1,\n",
       "       6, 4, 1, 4, 6, 0, 6, 4, 1, 2, 1, 3, 1, 4, 3, 4, 4, 2, 4, 4, 3, 6,\n",
       "       6, 1, 2, 6, 6, 0, 6, 3, 0, 4, 4, 5, 2, 1, 1, 6, 0, 2, 4, 0, 1, 2,\n",
       "       4, 0, 5, 4, 6, 4, 3, 0, 4, 2, 0, 6, 3, 0, 5, 2, 4, 6, 0, 0, 6, 1,\n",
       "       5, 6, 2, 4, 2, 4, 1, 6, 6, 1, 0, 0, 1, 1, 0, 2, 5, 5, 4, 6, 0, 6,\n",
       "       0, 3, 0, 0, 2, 6, 0, 0, 2, 6, 0, 6, 4])"
      ]
     },
     "execution_count": 79,
     "metadata": {},
     "output_type": "execute_result"
    }
   ],
   "source": [
    "np.argmax( y_val_predict, axis=1 )"
   ]
  },
  {
   "cell_type": "code",
   "execution_count": null,
   "id": "0cb23927",
   "metadata": {},
   "outputs": [],
   "source": []
  },
  {
   "cell_type": "code",
   "execution_count": null,
   "id": "de5f1b0c",
   "metadata": {},
   "outputs": [],
   "source": []
  }
 ],
 "metadata": {
  "kernelspec": {
   "display_name": "Python 3 (ipykernel)",
   "language": "python",
   "name": "python3"
  },
  "language_info": {
   "codemirror_mode": {
    "name": "ipython",
    "version": 3
   },
   "file_extension": ".py",
   "mimetype": "text/x-python",
   "name": "python",
   "nbconvert_exporter": "python",
   "pygments_lexer": "ipython3",
   "version": "3.8.11"
  }
 },
 "nbformat": 4,
 "nbformat_minor": 5
}
